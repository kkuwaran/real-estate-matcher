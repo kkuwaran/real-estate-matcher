{
 "cells": [
  {
   "cell_type": "code",
   "execution_count": 1,
   "metadata": {},
   "outputs": [],
   "source": [
    "import os\n",
    "from pathlib import Path\n",
    "import json\n",
    "\n",
    "from dotenv import load_dotenv\n",
    "import chromadb\n",
    "from chromadb.config import DEFAULT_TENANT, DEFAULT_DATABASE, Settings\n",
    "from chromadb.utils import embedding_functions\n",
    "\n",
    "\n",
    "# Load variables from .env into environment\n",
    "load_dotenv()\n",
    "\n",
    "OPENAI_API_KEY = os.getenv(\"OPENAI_API_KEY\")\n",
    "OPENAI_API_BASE = os.getenv(\"OPENAI_API_BASE\")"
   ]
  },
  {
   "cell_type": "code",
   "execution_count": 2,
   "metadata": {},
   "outputs": [
    {
     "name": "stdout",
     "output_type": "stream",
     "text": [
      "<class 'list'>\n",
      "No. of data: 30\n"
     ]
    },
    {
     "data": {
      "text/plain": [
       "{'id': 1,\n",
       " 'title': 'Cozy 2-Bedroom Condo in Downtown',\n",
       " 'description': 'This modern 2-bedroom, 1.5-bathroom condo offers an open floor plan with abundant natural light, hardwood floors throughout, and a stylish kitchen with stainless steel appliances and granite countertops. The spacious living area leads to a private balcony, perfect for enjoying city views. The master bedroom includes a walk-in closet, while the second bedroom is ideal for a home office or guest space. The building features secured entry, an on-site gym, and a rooftop lounge.',\n",
       " 'neighborhood_description': 'Located in the heart of downtown San Francisco, this condo is within walking distance of trendy cafes, upscale restaurants, and boutique shops. The neighborhood boasts excellent public transportation options, making commuting a breeze. Nearby parks and cultural attractions add to the vibrant urban lifestyle.',\n",
       " 'location': 'San Francisco, CA',\n",
       " 'neighborhood': 'Downtown',\n",
       " 'property_type': 'Condo',\n",
       " 'year_built': 2010,\n",
       " 'price': 320000,\n",
       " 'bedrooms': 2,\n",
       " 'bathrooms': 1.5,\n",
       " 'area_sqft': 850,\n",
       " 'listed_date': '2025-04-01'}"
      ]
     },
     "metadata": {},
     "output_type": "display_data"
    }
   ],
   "source": [
    "# Get the current working directory\n",
    "current_dir = Path.cwd()\n",
    "\n",
    "# Path to the JSON file\n",
    "json_path = current_dir / \"real-estate-listings.json\"\n",
    "\n",
    "# Open and load the JSON file\n",
    "with json_path.open(\"r\", encoding=\"utf-8\") as f:\n",
    "    real_estate_listings = json.load(f)\n",
    "\n",
    "# Check the type and first item\n",
    "print(type(real_estate_listings))  # <class 'list'>\n",
    "print(\"No. of data:\", len(real_estate_listings))\n",
    "display(real_estate_listings[0])      # prints the first listing"
   ]
  },
  {
   "cell_type": "code",
   "execution_count": 3,
   "metadata": {},
   "outputs": [],
   "source": [
    "collection_name = \"real_estate_listings_v2\"\n",
    "\n",
    "persist_directory = current_dir / \"chromadb_data\"\n",
    "client = chromadb.PersistentClient(\n",
    "    path=persist_directory,\n",
    "    settings=Settings(),\n",
    "    tenant=DEFAULT_TENANT,\n",
    "    database=DEFAULT_DATABASE,\n",
    ")"
   ]
  },
  {
   "cell_type": "code",
   "execution_count": 4,
   "metadata": {},
   "outputs": [],
   "source": [
    "# Delete a collection\n",
    "client.delete_collection(collection_name)"
   ]
  },
  {
   "cell_type": "code",
   "execution_count": 5,
   "metadata": {},
   "outputs": [
    {
     "name": "stdout",
     "output_type": "stream",
     "text": [
      "collection_names: ['real_estate_listings']\n"
     ]
    }
   ],
   "source": [
    "# Create a collection or get an existing one\n",
    "collection_names = [c.name for c in client.list_collections()]\n",
    "print(\"collection_names:\", collection_names)\n",
    "if collection_name in collection_names:\n",
    "    collection = client.get_collection(collection_name)\n",
    "else:\n",
    "    collection = client.create_collection(collection_name)"
   ]
  },
  {
   "cell_type": "code",
   "execution_count": 6,
   "metadata": {},
   "outputs": [
    {
     "name": "stdout",
     "output_type": "stream",
     "text": [
      "dict_keys(['ids', 'embeddings', 'documents', 'uris', 'included', 'data', 'metadatas'])\n",
      "No. of data: 0 \n",
      "\n",
      "\n"
     ]
    }
   ],
   "source": [
    "# Get all data from the collection\n",
    "all_data = collection.get()\n",
    "\n",
    "# `all_data` is a dictionary with keys like 'ids', 'embeddings', 'documents', 'uris', 'included', 'data', 'metadatas'\n",
    "print(all_data.keys()) \n",
    "metadatas = all_data['metadatas']\n",
    "print(\"No. of data:\", len(metadatas), '\\n\\n')\n",
    "\n",
    "# Iterate through the collection metadata\n",
    "for i, listing in enumerate(metadatas):\n",
    "    print(f\"Listing {i+1}:\")\n",
    "    for key, value in listing.items():\n",
    "        print(f\"  {key}: {value}\")\n",
    "    print(\"-\" * 40)"
   ]
  },
  {
   "cell_type": "code",
   "execution_count": 7,
   "metadata": {},
   "outputs": [],
   "source": [
    "# Setup embedding function\n",
    "# https://platform.openai.com/docs/guides/embeddings/embedding-models\n",
    "embedding_function = embedding_functions.OpenAIEmbeddingFunction(\n",
    "    api_base=OPENAI_API_BASE,\n",
    "    api_key=OPENAI_API_KEY,\n",
    "    model_name=\"text-embedding-3-small\"\n",
    ")\n",
    "\n",
    "collection.embedding_function = embedding_function"
   ]
  },
  {
   "cell_type": "code",
   "execution_count": null,
   "metadata": {},
   "outputs": [
    {
     "name": "stdout",
     "output_type": "stream",
     "text": [
      "Inserted 30 listings into Chroma collection 'real_estate_listings_v2'\n"
     ]
    }
   ],
   "source": [
    "DOCUMENT_FORMAT = (\n",
    "    \"{title}. {description} \"\n",
    "    \"Neighborhood info: {neighborhood_description}. \"\n",
    "    \"Location: {location}, Neighborhood: {neighborhood}. \"\n",
    "    \"Type: {property_type}, Bedrooms: {bedrooms}, \"\n",
    "    \"Bathrooms: {bathrooms}, Area: {area_sqft} sqft, \"\n",
    "    \"Year built: {year_built}, Price: ${price}.\"\n",
    ")\n",
    "\n",
    "ids = [str(listing[\"id\"]) for listing in real_estate_listings]\n",
    "\n",
    "documents = [\n",
    "    DOCUMENT_FORMAT.format(**listing) \n",
    "    for listing in real_estate_listings\n",
    "]\n",
    "\n",
    "import copy\n",
    "\n",
    "metadatas = copy.deepcopy(real_estate_listings)\n",
    "\n",
    "# # Construct the document string\n",
    "# documents = [\n",
    "#     f\"{listing['title']}. {listing['description']} \"\n",
    "#     f\"Neighborhood info: {listing['neighborhood_description']}. \"\n",
    "#     f\"Location: {listing['location']}, Neighborhood: {listing['neighborhood']}. \"\n",
    "#     f\"Type: {listing['property_type']}, Bedrooms: {listing['bedrooms']}, \"\n",
    "#     f\"Bathrooms: {listing['bathrooms']}, Area: {listing['area_sqft']} sqft, \"\n",
    "#     f\"Year built: {listing['year_built']}, Price: ${listing['price']}.\"\n",
    "#     for listing in real_estate_listings\n",
    "# ]\n",
    "\n",
    "\n",
    "\n",
    "# metadatas = [\n",
    "#     {\n",
    "#         \"id\": listing[\"id\"],\n",
    "#         \"location\": listing[\"location\"],\n",
    "#         \"neighborhood\": listing[\"neighborhood\"],\n",
    "#         \"property_type\": listing[\"property_type\"],\n",
    "#         \"year_built\": listing[\"year_built\"],\n",
    "#         \"price\": listing[\"price\"],\n",
    "#         \"bedrooms\": listing[\"bedrooms\"],\n",
    "#         \"bathrooms\": listing[\"bathrooms\"],\n",
    "#         \"area_sqft\": listing[\"area_sqft\"],\n",
    "#         \"listed_date\": listing[\"listed_date\"]\n",
    "#     } for listing in real_estate_listings\n",
    "# ]\n",
    "\n",
    "\n",
    "# Add to the collection\n",
    "collection.add(\n",
    "    ids=ids,\n",
    "    documents=documents,\n",
    "    metadatas=metadatas,\n",
    ")\n",
    "\n",
    "print(f\"Inserted {len(documents)} listings into Chroma collection '{collection_name}'\")\n"
   ]
  },
  {
   "cell_type": "code",
   "execution_count": 9,
   "metadata": {},
   "outputs": [
    {
     "name": "stdout",
     "output_type": "stream",
     "text": [
      "Total items in collection: 30\n",
      "\n",
      "Get item with ID=2:\n",
      "Embedding Shape: (1, 384)\n",
      "\n",
      "--- Query Results ---\n",
      "Match 1:\n",
      "  Document: Compact 1-Bedroom Apartment in Historic Building. This quaint 1-bedroom, 1-bathroom apartment offers vintage charm combined with modern upgrades. The apartment features exposed brick walls, hardwood floors, and a fully renovated kitchen with stainless steel appliances. It is perfect for those looking for a cozy living space with character. Neighborhood info: Situated in a historic district of Boston, MA, this apartment is surrounded by charming architecture, local cafes, and shops. The neighborhood is vibrant, with easy access to public transportation and close proximity to cultural attractions like museums and theaters.. Location: Boston, MA, Neighborhood: Historic District. Type: Apartment, Bedrooms: 1, Bathrooms: 1.0, Area: 600 sqft, Year built: 1900, Price: $210000.\n",
      "  Metadata: {'bathrooms': 1.0, 'area_sqft': 600, 'price': 210000, 'id': 9, 'location': 'Boston, MA', 'property_type': 'Apartment', 'listed_date': '2025-03-31', 'year_built': 1900, 'bedrooms': 1, 'neighborhood': 'Historic District'}\n",
      "  Distance: 0.5379568338394165\n",
      "\n",
      "Match 2:\n",
      "  Document: Modern Studio Apartment Near University. This compact and efficient studio apartment is perfect for students or young professionals. It offers a modern layout with a fully-equipped kitchen, ample closet space, and large windows that provide plenty of natural light. The building features secured access, on-site laundry, and bike storage. Neighborhood info: Located just a short walk from the University of Michigan, this studio apartment is ideal for students. The surrounding neighborhood has convenient access to coffee shops, restaurants, and public transportation. The area is lively and safe, offering a great balance between convenience and quiet living.. Location: Ann Arbor, MI, Neighborhood: University District. Type: Apartment, Bedrooms: 0, Bathrooms: 1.0, Area: 450 sqft, Year built: 2010, Price: $150000.\n",
      "  Metadata: {'property_type': 'Apartment', 'price': 150000, 'location': 'Ann Arbor, MI', 'area_sqft': 450, 'bedrooms': 0, 'year_built': 2010, 'bathrooms': 1.0, 'listed_date': '2025-03-28', 'neighborhood': 'University District', 'id': 3}\n",
      "  Distance: 1.1855599880218506\n",
      "\n"
     ]
    }
   ],
   "source": [
    "# 1. Check collection size\n",
    "print(\"Total items in collection:\", collection.count())\n",
    "\n",
    "# retrieve by ID\n",
    "print(\"\\nGet item with ID=2:\")\n",
    "# print(collection.get(ids=[\"2\"]))\n",
    "item = collection.get(ids=[\"2\"], include=[\"embeddings\"])\n",
    "print(\"Embedding Shape:\", item[\"embeddings\"].shape)\n",
    "\n",
    "# 2. Run a sample query (search for something relevant to your documents)\n",
    "query_text = \"historic apartment in Boston\"\n",
    "results = collection.query(\n",
    "    query_texts=[query_text],\n",
    "    n_results=2  # top 2 matches\n",
    ")\n",
    "\n",
    "print(\"\\n--- Query Results ---\")\n",
    "for i in range(len(results[\"documents\"][0])):\n",
    "    print(f\"Match {i+1}:\")\n",
    "    print(\"  Document:\", results[\"documents\"][0][i])\n",
    "    print(\"  Metadata:\", results[\"metadatas\"][0][i])\n",
    "    print(\"  Distance:\", results[\"distances\"][0][i])\n",
    "    print()\n",
    "\n",
    "# # 3. Get a specific item back by ID\n",
    "# doc_id = \"9\"  # or whichever you used\n",
    "# retrieved = collection.get(ids=[doc_id])\n",
    "# print(\"\\n--- Retrieved by ID ---\")\n",
    "# print(retrieved)"
   ]
  },
  {
   "cell_type": "markdown",
   "metadata": {},
   "source": [
    "## Part II: Preference Extraction"
   ]
  },
  {
   "cell_type": "code",
   "execution_count": 10,
   "metadata": {},
   "outputs": [
    {
     "name": "stdout",
     "output_type": "stream",
     "text": [
      "Conversation 1:\n",
      "Agent: How big do you want your house to be?\n",
      "Buyer: A comfortable three-bedroom house with a spacious kitchen and a cozy living room.\n",
      "Agent: What are 3 most important things for you in choosing this property?\n",
      "Buyer: A quiet neighborhood, good local schools, and convenient shopping options.\n",
      "Agent: Which amenities would you like?\n",
      "Buyer: A backyard for gardening, a two-car garage, and a modern, energy-efficient heating system.\n",
      "Agent: Which transportation options are important to you?\n",
      "Buyer: Easy access to a reliable bus line, proximity to a major highway, and bike-friendly roads.\n",
      "Agent: How urban do you want your neighborhood to be?\n",
      "Buyer: A balance between suburban tranquility and access to urban amenities like restaurants and theaters.\n",
      "---\n",
      "Conversation 2:\n",
      "Agent: Hello! What kind of property are you looking for today?\n",
      "Buyer: I'm looking for a spacious suburban home for my family.\n",
      "Agent: Great! How many bedrooms and bathrooms do you need?\n",
      "Buyer: At least 4 bedrooms and 3 bathrooms.\n",
      "Agent: Are there any specific amenities you want in the house?\n",
      "Buyer: A large backyard, a garage for two cars, and a modern kitchen would be ideal.\n",
      "Agent: What about the neighborhood? Any preferences?\n",
      "Buyer: A safe, family-friendly area with good schools nearby.\n",
      "Agent: Do you have a budget range in mind?\n",
      "Buyer: Somewhere between $500,000 and $700,000.\n",
      "---\n",
      "Conversation 3:\n",
      "Agent: Hi there! Are you looking for a condo or a house?\n",
      "Buyer: I'm looking for a modern condo in the city center.\n",
      "Agent: Do you have a preferred number of bedrooms or bathrooms?\n",
      "Buyer: Just 1 bedroom and 1 bathroom is fine.\n",
      "Agent: What features are most important to you?\n",
      "Buyer: I’d like an open layout, a balcony, and access to a gym.\n",
      "Agent: How important is public transportation to you?\n",
      "Buyer: Very important; I want to be walking distance from the subway and bus stops.\n",
      "Agent: Do you have a preferred budget for the condo?\n",
      "Buyer: Up to $350,000 would be ideal.\n",
      "Agent: Would you like any nearby amenities like cafes or grocery stores?\n",
      "Buyer: Yes, I’d love to be close to coffee shops and a grocery store.\n",
      "---\n",
      "Conversation 99:\n",
      "Buyer: Hi, I am looking for a 3-bedroom house.\n",
      "Agent: Sure! What area are you interested in?\n",
      "Buyer: Somewhere close to good schools and parks.\n",
      "Agent: Great, I have a few listings in mind.\n",
      "---\n",
      "Conversation 100:\n",
      "Buyer: I prefer a modern condo downtown.\n",
      "Agent: Understood. What is your budget?\n",
      "---\n"
     ]
    }
   ],
   "source": [
    "# path = Path(\"conversations.json\")\n",
    "\n",
    "conv_json_path = current_dir / \"conversations.json\"\n",
    "with conv_json_path.open(\"r\", encoding=\"utf-8\") as f:\n",
    "    conversations = json.load(f)\n",
    "\n",
    "for conv in conversations:\n",
    "    print(f\"Conversation {conv['conversation_id']}:\")\n",
    "    for msg in conv[\"messages\"]:\n",
    "        print(f\"{msg['role'].capitalize()}: {msg['text']}\")\n",
    "    print(\"---\")"
   ]
  },
  {
   "cell_type": "code",
   "execution_count": null,
   "metadata": {},
   "outputs": [],
   "source": [
    "from pydantic import BaseModel\n",
    "from typing import List, Optional, Tuple\n",
    "\n",
    "from openai import OpenAI\n",
    "\n",
    "\n",
    "def load_conversations():\n",
    "    conv_json_path = current_dir / \"conversations.json\"\n",
    "    with conv_json_path.open(\"r\", encoding=\"utf-8\") as f:\n",
    "        conversations = json.load(f)\n",
    "    \n",
    "    conv_ids = [conv['conversation_id'] for conv in conversations]\n",
    "    print(\"Conversation IDs:\", conv_ids, '\\n')\n",
    "    return conv_ids, conversations"
   ]
  },
  {
   "cell_type": "code",
   "execution_count": null,
   "metadata": {},
   "outputs": [
    {
     "name": "stdout",
     "output_type": "stream",
     "text": [
      "Conversation IDs: [1, 2, 3, 99, 100] \n",
      "\n",
      "========== Conversation 2 ==========\n",
      "Agent: Hello! What kind of property are you looking for today?\n",
      "Buyer: I'm looking for a spacious suburban home for my family.\n",
      "Agent: Great! How many bedrooms and bathrooms do you need?\n",
      "Buyer: At least 4 bedrooms and 3 bathrooms.\n",
      "Agent: Are there any specific amenities you want in the house?\n",
      "Buyer: A large backyard, a garage for two cars, and a modern kitchen would be ideal.\n",
      "Agent: What about the neighborhood? Any preferences?\n",
      "Buyer: A safe, family-friendly area with good schools nearby.\n",
      "Agent: Do you have a budget range in mind?\n",
      "Buyer: Somewhere between $500,000 and $700,000.\n",
      "\n"
     ]
    }
   ],
   "source": [
    "id = 2\n",
    "\n",
    "conv_ids, conversations = load_conversations()\n",
    "assert id in conv_ids, \"invalid conversation id\"\n",
    "conv = conversations[conv_ids.index(id)]\n",
    "\n",
    "\n",
    "conversation_text = \"\"\n",
    "for msg in conv[\"messages\"]:\n",
    "    role = msg['role'].capitalize()\n",
    "    conversation_text += f\"{role}: {msg['text']}\\n\"\n",
    "\n",
    "print(f\"========== Conversation {id} ==========\")\n",
    "print(conversation_text)\n"
   ]
  },
  {
   "cell_type": "code",
   "execution_count": 97,
   "metadata": {},
   "outputs": [],
   "source": [
    "class BuyerPreferences(BaseModel):\n",
    "    bedrooms: Optional[int]\n",
    "    bathrooms: Optional[float]\n",
    "    property_type: Optional[str]\n",
    "\n",
    "    # Additional physical features\n",
    "    area_min_sqft: Optional[int]   # minimum area (sq. ft)\n",
    "    area_max_sqft: Optional[int]   # maximum area (sq. ft)\n",
    "    building_max_age: Optional[int]  # max age in years\n",
    "    building_min_year: Optional[int] # alternatively, built after year X\n",
    "    \n",
    "    # Lifestyle & location\n",
    "    amenities: List[str] = []\n",
    "    furnished: bool = False\n",
    "    location: Optional[str]\n",
    "    neighborhood_features: List[str] = []\n",
    "    transportation: List[str] = []\n",
    "    parking_required: bool = False\n",
    "    pet_friendly_required: bool = False\n",
    "\n",
    "    # Financial\n",
    "    min_budget: Optional[int]\n",
    "    max_budget: Optional[int]\n",
    "\n",
    "    \n",
    "    \n",
    "\n",
    "client = OpenAI(base_url=OPENAI_API_BASE, api_key=OPENAI_API_KEY)\n",
    "\n",
    "system_prompt = \"You are a real estate preference parser.\"\n",
    "user_prompt = f\"Extract buyer preferences from the conversation below and fill the JSON fields:\\n{conversation_text}\"\n",
    "\n",
    "response = client.chat.completions.parse(\n",
    "    model=\"gpt-4o-2024-08-06\",\n",
    "    messages=[\n",
    "        {\"role\": \"system\", \"content\": system_prompt},\n",
    "        {\"role\": \"user\", \"content\": user_prompt}\n",
    "    ],\n",
    "    response_format=BuyerPreferences\n",
    ")"
   ]
  },
  {
   "cell_type": "code",
   "execution_count": 98,
   "metadata": {},
   "outputs": [
    {
     "data": {
      "text/plain": [
       "{'bedrooms': 4,\n",
       " 'bathrooms': 3,\n",
       " 'property_type': 'Single Family Home',\n",
       " 'area_min_sqft': None,\n",
       " 'area_max_sqft': None,\n",
       " 'building_max_age': None,\n",
       " 'building_min_year': None,\n",
       " 'amenities': ['Large backyard', 'Garage for two cars', 'Modern kitchen'],\n",
       " 'furnished': False,\n",
       " 'location': 'Suburb',\n",
       " 'neighborhood_features': ['Safe', 'Family-friendly', 'Good schools'],\n",
       " 'transportation': [],\n",
       " 'parking_required': True,\n",
       " 'pet_friendly_required': False,\n",
       " 'min_budget': 500000,\n",
       " 'max_budget': 700000}"
      ]
     },
     "metadata": {},
     "output_type": "display_data"
    }
   ],
   "source": [
    "content = response.choices[0].message.content\n",
    "content_dict = json.loads(content)\n",
    "display(content_dict)\n"
   ]
  },
  {
   "cell_type": "markdown",
   "metadata": {},
   "source": [
    "## Part III: Filtering\n",
    "\n",
    "- \"$eq\" – equal (default if you just write \"bathrooms\": 1.0)\n",
    "- \"$ne\" – not equal\n",
    "- \"$gt\" – greater than\n",
    "- \"$gte\" – greater than or equal\n",
    "- \"$lt\" – less than\n",
    "- \"$lte\" – less than or equal\n",
    "- \"$in\" – in list of values\n",
    "- \"$nin\" – not in list of values"
   ]
  },
  {
   "cell_type": "code",
   "execution_count": 99,
   "metadata": {},
   "outputs": [
    {
     "name": "stdout",
     "output_type": "stream",
     "text": [
      "2025\n"
     ]
    }
   ],
   "source": [
    "from datetime import datetime\n",
    "\n",
    "# Get the current date and time, and then extract the year attribute\n",
    "current_year = datetime.now().year\n",
    "print(current_year)"
   ]
  },
  {
   "cell_type": "code",
   "execution_count": null,
   "metadata": {},
   "outputs": [],
   "source": [
    "property_type = content_dict['property_type']\n",
    "amenities = content_dict['amenities']\n",
    "furnished = content_dict['furnished']\n",
    "location = content_dict['location']\n",
    "neighborhood_features = content_dict['neighborhood_features']\n",
    "transportation = content_dict['transportation']\n",
    "parking_required = content_dict['parking_required']\n",
    "pet_friendly = content_dict['pet_friendly_required']\n",
    "\n",
    "\n",
    "# Build bullet points\n",
    "query_text = f\"\"\"\n",
    "- Property type: {property_type}\n",
    "- Amenities: {', '.join(amenities) if amenities else 'Any'}\n",
    "- Furnished: {\"Yes\" if furnished else \"No\"}\n",
    "- Location: {location or \"Any\"}\n",
    "- Neighborhood features: {', '.join(neighborhood_features) if neighborhood_features else \"Any\"}\n",
    "- Transportation preferences: {', '.join(transportation) if transportation else \"Any\"}\n",
    "- Parking required: {\"Yes\" if parking_required else \"No\"}\n",
    "- Pet friendly required: {\"Yes\" if pet_friendly else \"No\"}\n",
    "\"\"\"\n",
    "\n",
    "### TODO: Handle the case of no value!\n",
    "n_bedroom = content_dict['bedrooms']\n",
    "n_bathroom = content_dict['bathrooms']\n",
    "min_budget, max_budget = content_dict['min_budget'], content_dict['max_budget']\n",
    "min_area, max_area = content_dict['area_min_sqft'], content_dict['area_max_sqft']\n",
    "building_max_age = content_dict['building_max_age']\n",
    "building_min_year = content_dict['building_min_year']\n",
    "\n",
    "conditions = []\n",
    "if n_bedroom:\n",
    "    conditions += [{\"bedrooms\": n_bedroom}]\n",
    "if n_bathroom:\n",
    "    conditions += [{\"bathrooms\": {\"$gte\": n_bathroom - 1}}, {\"bathrooms\": {\"$lte\": n_bathroom + 1}}]\n",
    "if min_budget:\n",
    "    conditions += [{\"price\": {\"$gte\": min_budget}}]\n",
    "if max_budget:\n",
    "    conditions += [{\"price\": {\"$lte\": max_budget}}]\n",
    "if min_area:\n",
    "    conditions += [{\"area_sqft\": {\"$gte\": min_area}}]\n",
    "if max_area:\n",
    "    conditions += [{\"area_sqft\": {\"$lte\": max_area}}]\n",
    "if building_min_year:\n",
    "    conditions += [{\"year_built\": {\"$gte\": building_min_year}}]\n",
    "if building_max_age:\n",
    "    conditions += [{\"year_built\": {\"$gte\": current_year - building_max_age}}]\n",
    "\n",
    "\n",
    "\n",
    "# {'bedrooms': 4,\n",
    "#  'bathrooms': 3,\n",
    "#  'property_type': 'suburban home',\n",
    "#  'area_min_sqft': None,\n",
    "#  'area_max_sqft': None,\n",
    "#  'building_max_age': None,\n",
    "#  'building_min_year': None,\n",
    "#  'amenities': ['large backyard', 'garage for two cars', 'modern kitchen'],\n",
    "#  'furnished': False,\n",
    "#  'location': None,\n",
    "#  'neighborhood_features': ['safe', 'family-friendly', 'good schools nearby'],\n",
    "#  'transportation': [],\n",
    "#  'parking_required': True,\n",
    "#  'pet_friendly': False,\n",
    "#  'min_budget': 500000,\n",
    "#  'max_budget': 700000}\n"
   ]
  },
  {
   "cell_type": "code",
   "execution_count": 101,
   "metadata": {},
   "outputs": [
    {
     "data": {
      "text/plain": [
       "{'ids': [['2', '15', '29']],\n",
       " 'embeddings': None,\n",
       " 'documents': [['Spacious 4-Bedroom House with Garden. This spacious 4-bedroom, 3-bathroom house offers a large backyard perfect for outdoor activities, a renovated kitchen with modern finishes, and a 2-car garage. The open-concept living and dining area flows seamlessly into the backyard patio, ideal for entertaining. The master suite includes a walk-in closet and en-suite bathroom with a soaking tub and separate shower. Neighborhood info: Located in a quiet suburban neighborhood in Austin, TX, this house is close to excellent schools, parks, and shopping centers. The area is family-friendly with a tight-knit community and is just a short drive to downtown Austin for easy access to work and entertainment.. Location: Austin, TX, Neighborhood: Suburban. Type: House, Bedrooms: 4, Bathrooms: 3.0, Area: 2100 sqft, Year built: 2015, Price: $715000.',\n",
       "   'Luxury 4-Bedroom Villa with Pool. This stunning 4-bedroom, 4-bathroom villa offers a spacious layout with high-end finishes, including marble floors, designer kitchen with premium appliances, and a large open living area with panoramic views. The outdoor space features a private pool, lush garden, and multiple terraces for relaxation and entertaining. Neighborhood info: Situated in an exclusive gated community in Miami, FL, this villa offers both privacy and luxury. The neighborhood is known for its upscale homes, top-rated golf courses, and proximity to the beach. Residents also enjoy convenient access to world-class shopping and dining.. Location: Miami, FL, Neighborhood: Gated Community. Type: Villa, Bedrooms: 4, Bathrooms: 4.0, Area: 4500 sqft, Year built: 2020, Price: $2200000.',\n",
       "   'Luxury 4-Bedroom Home with Private Vineyard. This stunning 4-bedroom, 3.5-bathroom home includes a private vineyard, perfect for wine enthusiasts. The spacious home boasts a gourmet kitchen, an open-concept living area with vaulted ceilings, and a master suite with a private terrace. The outdoor space features a pool, hot tub, and multiple areas for relaxation and outdoor dining. Neighborhood info: Nestled in the rolling hills of Napa Valley, CA, this property offers both seclusion and access to world-class wineries. The neighborhood is known for its luxury estates, wineries, and scenic views, making it a sought-after location for those who appreciate fine wine and a tranquil lifestyle.. Location: Napa Valley, CA, Neighborhood: Vineyard Estate. Type: House, Bedrooms: 4, Bathrooms: 3.5, Area: 3500 sqft, Year built: 2018, Price: $3200000.']],\n",
       " 'uris': None,\n",
       " 'included': ['metadatas', 'documents', 'distances'],\n",
       " 'data': None,\n",
       " 'metadatas': [[{'property_type': 'House',\n",
       "    'neighborhood': 'Suburban',\n",
       "    'id': 2,\n",
       "    'bathrooms': 3.0,\n",
       "    'location': 'Austin, TX',\n",
       "    'price': 715000,\n",
       "    'listed_date': '2025-03-25',\n",
       "    'area_sqft': 2100,\n",
       "    'bedrooms': 4,\n",
       "    'year_built': 2015},\n",
       "   {'listed_date': '2025-04-09',\n",
       "    'id': 15,\n",
       "    'price': 2200000,\n",
       "    'location': 'Miami, FL',\n",
       "    'bedrooms': 4,\n",
       "    'bathrooms': 4.0,\n",
       "    'year_built': 2020,\n",
       "    'area_sqft': 4500,\n",
       "    'neighborhood': 'Gated Community',\n",
       "    'property_type': 'Villa'},\n",
       "   {'bedrooms': 4,\n",
       "    'listed_date': '2025-04-18',\n",
       "    'neighborhood': 'Vineyard Estate',\n",
       "    'bathrooms': 3.5,\n",
       "    'year_built': 2018,\n",
       "    'property_type': 'House',\n",
       "    'location': 'Napa Valley, CA',\n",
       "    'price': 3200000,\n",
       "    'id': 29,\n",
       "    'area_sqft': 3500}]],\n",
       " 'distances': [[1.0419951677322388, 1.0893641710281372, 1.1533079147338867]]}"
      ]
     },
     "metadata": {},
     "output_type": "display_data"
    }
   ],
   "source": [
    "outputs = collection.query(\n",
    "    query_texts=[query_text],\n",
    "    where={\"$and\": conditions},\n",
    "    n_results=3,\n",
    ")\n",
    "display(outputs)"
   ]
  },
  {
   "cell_type": "code",
   "execution_count": 93,
   "metadata": {},
   "outputs": [
    {
     "data": {
      "text/plain": [
       "{'ids': ['6', '9', '13', '14', '16', '18', '20'],\n",
       " 'embeddings': None,\n",
       " 'documents': ['Charming 1-Bedroom Bungalow. This classic 1-bedroom, 1-bathroom bungalow features an updated kitchen with modern appliances, hardwood floors throughout, and a cozy living room with plenty of natural light. The private patio offers an ideal space for outdoor relaxation and entertaining. This home blends traditional charm with contemporary updates, making it a perfect retreat. Neighborhood info: Located in a peaceful residential area of Portland, OR, this bungalow is close to local cafes, parks, and public transportation. The quiet neighborhood offers a suburban vibe while still being within reach of the city’s vibrant downtown.. Location: Portland, OR, Neighborhood: Residential. Type: House, Bedrooms: 1, Bathrooms: 1.0, Area: 750 sqft, Year built: 1940, Price: $275000.',\n",
       "  'Compact 1-Bedroom Apartment in Historic Building. This quaint 1-bedroom, 1-bathroom apartment offers vintage charm combined with modern upgrades. The apartment features exposed brick walls, hardwood floors, and a fully renovated kitchen with stainless steel appliances. It is perfect for those looking for a cozy living space with character. Neighborhood info: Situated in a historic district of Boston, MA, this apartment is surrounded by charming architecture, local cafes, and shops. The neighborhood is vibrant, with easy access to public transportation and close proximity to cultural attractions like museums and theaters.. Location: Boston, MA, Neighborhood: Historic District. Type: Apartment, Bedrooms: 1, Bathrooms: 1.0, Area: 600 sqft, Year built: 1900, Price: $210000.',\n",
       "  'Cozy 2-Bedroom Cottage in the Countryside. This charming 2-bedroom, 1-bathroom cottage is perfect for those looking to escape the hustle and bustle of city life. The home features a traditional stone fireplace, a cozy living room, and a country-style kitchen with vintage fixtures. The expansive backyard provides space for gardening and outdoor gatherings. Neighborhood info: Located in a serene countryside setting just outside of Asheville, NC, this cottage offers peace and privacy. The neighborhood is known for its beautiful rolling hills, local farms, and hiking trails, making it a perfect location for nature lovers.. Location: Asheville, NC, Neighborhood: Countryside. Type: Cottage, Bedrooms: 2, Bathrooms: 1.0, Area: 950 sqft, Year built: 1950, Price: $350000.',\n",
       "  'Stylish 1-Bedroom Condo with City Views. This chic 1-bedroom, 1-bathroom condo offers sweeping views of the city skyline from its floor-to-ceiling windows. The open-plan living area includes a modern kitchen with sleek appliances and a breakfast bar. The bedroom has ample closet space, while the bathroom features elegant finishes and a walk-in shower. Neighborhood info: Located in the heart of downtown Seattle, WA, this condo is close to major office buildings, shopping districts, and public transit options. The neighborhood offers a perfect urban lifestyle, with restaurants, entertainment venues, and parks just minutes away.. Location: Seattle, WA, Neighborhood: Downtown. Type: Condo, Bedrooms: 1, Bathrooms: 1.0, Area: 750 sqft, Year built: 2017, Price: $550000.',\n",
       "  'Affordable 2-Bedroom Mobile Home in Quiet Rural Area. This 2-bedroom, 1-bathroom mobile home offers a comfortable living space with a cozy living room, functional kitchen, and a large backyard perfect for outdoor activities. While compact, the home provides a peaceful and private environment for those seeking a simple, affordable lifestyle. Neighborhood info: Located in a peaceful rural area of eastern Oregon, this mobile home offers the perfect escape from city life. The neighborhood is quiet and ideal for those who enjoy country living, with scenic views of rolling hills and wide-open spaces.. Location: Baker City, OR, Neighborhood: Rural Area. Type: Mobile Home, Bedrooms: 2, Bathrooms: 1.0, Area: 600 sqft, Year built: 1995, Price: $85000.',\n",
       "  'Charming 1-Bedroom Cottage in Secluded Forest. This one-bedroom, one-bathroom cottage is perfect for those seeking a peaceful, secluded retreat. The home features a cozy interior with wood accents, a small but functional kitchen, and a living room with a fireplace. A private deck overlooks a tranquil forest, offering total privacy and serenity. Neighborhood info: Nestled deep in the forests of the Adirondacks in upstate New York, this cottage provides a quiet escape from the hustle and bustle. Surrounded by nature, the neighborhood is perfect for outdoor enthusiasts who love hiking, birdwatching, and fishing.. Location: Lake Placid, NY, Neighborhood: Secluded Forest. Type: Cottage, Bedrooms: 1, Bathrooms: 1.0, Area: 800 sqft, Year built: 1965, Price: $125000.',\n",
       "  'Budget-Friendly 2-Bedroom Apartment in Suburban Area. This 2-bedroom, 1-bathroom apartment is an affordable option for those looking to own property in a suburban area. The unit offers a functional layout with a large living room, kitchen with basic appliances, and two comfortable bedrooms. Perfect for first-time homebuyers or those on a budget. Neighborhood info: Located in the suburban neighborhood of Toledo, Ohio, this apartment provides easy access to local shops, schools, and parks. The quiet and safe environment is ideal for young families or anyone looking for an affordable place to live near the city center.. Location: Toledo, OH, Neighborhood: Suburban Area. Type: Apartment, Bedrooms: 2, Bathrooms: 1.0, Area: 800 sqft, Year built: 1990, Price: $65000.'],\n",
       " 'uris': None,\n",
       " 'included': ['metadatas', 'documents'],\n",
       " 'data': None,\n",
       " 'metadatas': [{'year_built': 1940,\n",
       "   'bedrooms': 1,\n",
       "   'id': 6,\n",
       "   'neighborhood': 'Residential',\n",
       "   'location': 'Portland, OR',\n",
       "   'listed_date': '2025-03-22',\n",
       "   'price': 275000,\n",
       "   'bathrooms': 1.0,\n",
       "   'property_type': 'House',\n",
       "   'area_sqft': 750},\n",
       "  {'bedrooms': 1,\n",
       "   'property_type': 'Apartment',\n",
       "   'location': 'Boston, MA',\n",
       "   'id': 9,\n",
       "   'neighborhood': 'Historic District',\n",
       "   'year_built': 1900,\n",
       "   'bathrooms': 1.0,\n",
       "   'area_sqft': 600,\n",
       "   'listed_date': '2025-03-31',\n",
       "   'price': 210000},\n",
       "  {'id': 13,\n",
       "   'location': 'Asheville, NC',\n",
       "   'area_sqft': 950,\n",
       "   'property_type': 'Cottage',\n",
       "   'listed_date': '2025-04-07',\n",
       "   'neighborhood': 'Countryside',\n",
       "   'price': 350000,\n",
       "   'bedrooms': 2,\n",
       "   'bathrooms': 1.0,\n",
       "   'year_built': 1950},\n",
       "  {'neighborhood': 'Downtown',\n",
       "   'bedrooms': 1,\n",
       "   'area_sqft': 750,\n",
       "   'property_type': 'Condo',\n",
       "   'year_built': 2017,\n",
       "   'bathrooms': 1.0,\n",
       "   'listed_date': '2025-04-08',\n",
       "   'price': 550000,\n",
       "   'location': 'Seattle, WA',\n",
       "   'id': 14},\n",
       "  {'id': 16,\n",
       "   'listed_date': '2025-04-10',\n",
       "   'location': 'Baker City, OR',\n",
       "   'year_built': 1995,\n",
       "   'bathrooms': 1.0,\n",
       "   'bedrooms': 2,\n",
       "   'property_type': 'Mobile Home',\n",
       "   'area_sqft': 600,\n",
       "   'price': 85000,\n",
       "   'neighborhood': 'Rural Area'},\n",
       "  {'bedrooms': 1,\n",
       "   'bathrooms': 1.0,\n",
       "   'listed_date': '2025-04-12',\n",
       "   'neighborhood': 'Secluded Forest',\n",
       "   'location': 'Lake Placid, NY',\n",
       "   'price': 125000,\n",
       "   'property_type': 'Cottage',\n",
       "   'year_built': 1965,\n",
       "   'id': 18,\n",
       "   'area_sqft': 800},\n",
       "  {'neighborhood': 'Suburban Area',\n",
       "   'property_type': 'Apartment',\n",
       "   'bathrooms': 1.0,\n",
       "   'bedrooms': 2,\n",
       "   'price': 65000,\n",
       "   'listed_date': '2025-04-14',\n",
       "   'location': 'Toledo, OH',\n",
       "   'year_built': 1990,\n",
       "   'id': 20,\n",
       "   'area_sqft': 800}]}"
      ]
     },
     "metadata": {},
     "output_type": "display_data"
    }
   ],
   "source": [
    "\n",
    "\n",
    "\n",
    "\n",
    "outputs = collection.get(\n",
    "    where={\n",
    "        \"$and\": [\n",
    "            {\"bathrooms\": 1.0},\n",
    "            {\"bedrooms\": {\"$gte\": 1}},\n",
    "            {\"year_built\": {\"$gte\": 1900}},\n",
    "        ]\n",
    "    },\n",
    ")\n",
    "\n",
    "display(outputs)"
   ]
  },
  {
   "cell_type": "code",
   "execution_count": null,
   "metadata": {},
   "outputs": [
    {
     "name": "stdout",
     "output_type": "stream",
     "text": [
      "{'ids': [[]], 'embeddings': None, 'documents': [[]], 'uris': None, 'included': ['metadatas', 'documents', 'distances'], 'data': None, 'metadatas': [[]], 'distances': [[]]}\n"
     ]
    }
   ],
   "source": [
    "outputs = collection.query(\n",
    "    query_texts=[\"modern apartment in Boston\"],\n",
    "    where={\n",
    "        \"$and\": [\n",
    "            {\"bathrooms\": 1.0},\n",
    "            {\"bedrooms\": {\"$gte\": 1}},\n",
    "            {\"year_built\": {\"$gte\": 1900}},\n",
    "        ]\n",
    "    },\n",
    "    n_results=3,\n",
    ")\n",
    "\n",
    "print(outputs)"
   ]
  },
  {
   "cell_type": "markdown",
   "metadata": {},
   "source": [
    "        \"id\": 9,\n",
    "        \"title\": \"Compact 1-Bedroom Apartment in Historic Building\",\n",
    "        \"description\": \"This quaint 1-bedroom, 1-bathroom apartment offers vintage charm combined with modern upgrades. The apartment features exposed brick walls, hardwood floors, and a fully renovated kitchen with stainless steel appliances. It is perfect for those looking for a cozy living space with character.\",\n",
    "        \"neighborhood_description\": \"Situated in a historic district of Boston, MA, this apartment is surrounded by charming architecture, local cafes, and shops. The neighborhood is vibrant, with easy access to public transportation and close proximity to cultural attractions like museums and theaters.\",\n",
    "        \"location\": \"Boston, MA\",\n",
    "        \"neighborhood\": \"Historic District\",\n",
    "        \"property_type\": \"Apartment\",\n",
    "        \"year_built\": 1900,\n",
    "        \"price\": 210000,\n",
    "        \"bedrooms\": 1,\n",
    "        \"bathrooms\": 1.0,\n",
    "        \"area_sqft\": 600,\n",
    "        \"listed_date\": \"2025-03-31\""
   ]
  },
  {
   "cell_type": "code",
   "execution_count": null,
   "metadata": {},
   "outputs": [
    {
     "name": "stdout",
     "output_type": "stream",
     "text": [
      "{'ids': ['9'], 'embeddings': None, 'documents': ['Compact 1-Bedroom Apartment in Historic Building. This quaint 1-bedroom, 1-bathroom apartment offers vintage charm combined with modern upgrades. The apartment features exposed brick walls, hardwood floors, and a fully renovated kitchen with stainless steel appliances. It is perfect for those looking for a cozy living space with character. Neighborhood info: Situated in a historic district of Boston, MA, this apartment is surrounded by charming architecture, local cafes, and shops. The neighborhood is vibrant, with easy access to public transportation and close proximity to cultural attractions like museums and theaters.. Location: Boston, MA, Neighborhood: Historic District. Type: Apartment, Bedrooms: 1, Bathrooms: 1.0, Area: 600 sqft, Year built: 1900, Price: $210000.'], 'uris': None, 'included': ['metadatas', 'documents'], 'data': None, 'metadatas': [{'year_built': 1900, 'location': 'Boston, MA', 'price': 210000, 'bathrooms': 1.0, 'neighborhood': 'Historic District', 'property_type': 'Apartment', 'area_sqft': 600, 'listed_date': '2025-03-31', 'bedrooms': 1, 'id': 9}]}\n",
      "dict_keys(['ids', 'embeddings', 'documents', 'uris', 'included', 'data', 'metadatas'])\n",
      "metadata key: dict_keys(['year_built', 'location', 'price', 'bathrooms', 'neighborhood', 'property_type', 'area_sqft', 'listed_date', 'bedrooms', 'id'])\n",
      "\n",
      "Property ID: 9\n",
      "Title: PH\n",
      "Description: PH\n",
      "Neighborhood Info: PH\n",
      "Location: Boston, MA\n",
      "Neighborhood: Historic District\n",
      "Property Type: Apartment\n",
      "Year Built: 1900\n",
      "Price: $210,000\n",
      "Bedrooms: 1\n",
      "Bathroom: 1.0\n",
      "Area: 600 sq.ft.\n",
      "Listed Date: 2025-03-31\n",
      "\n"
     ]
    }
   ],
   "source": [
    "TEMPLATE = \"\"\"\n",
    "Property ID: {id}\n",
    "Title: {title}\n",
    "Description: {description}\n",
    "Neighborhood Info: {neigh_desc}\n",
    "Location: {location}\n",
    "Neighborhood: {neighborhood}\n",
    "Property Type: {property_type}\n",
    "Year Built: {year_built} CE\n",
    "Price: ${price:,}\n",
    "Bedrooms: {bedrooms}\n",
    "Bathroom: {bathrooms}\n",
    "Area: {area_sqft} sq.ft.\n",
    "Listed Date: {listed_date}\n",
    "\"\"\"\n",
    "\n",
    "\n",
    "def display_real_estate_info(real_estate_id):\n",
    "\n",
    "    id_str = str(real_estate_id)\n",
    "    item = collection.get(ids=[id_str])\n",
    "\n",
    "    metadata = item['metadatas'][0]\n",
    "\n",
    "    real_estate_info = TEMPLATE.format(\n",
    "        id=metadata['id'],\n",
    "        title=\"PH\",\n",
    "        description=\"PH\",\n",
    "        neigh_desc=\"PH\",\n",
    "        location=metadata['location'],\n",
    "        neighborhood=metadata['neighborhood'],\n",
    "        property_type=metadata['property_type'],\n",
    "        year_built=metadata['year_built'],\n",
    "        price=metadata['price'],\n",
    "        bedrooms=metadata['bedrooms'],\n",
    "        bathrooms=metadata['bathrooms'],\n",
    "        area_sqft=metadata['area_sqft'],\n",
    "        listed_date=metadata['listed_date'],\n",
    "    )\n",
    "\n",
    "    print(real_estate_info)\n",
    "\n"
   ]
  },
  {
   "cell_type": "code",
   "execution_count": 75,
   "metadata": {},
   "outputs": [
    {
     "ename": "ValueError",
     "evalue": "Expected where to have exactly one operator, got {'bathrooms': 1.0, 'bedrooms': {'$gte': 1, '$lt': 2}, 'year_built': {'$gte': 1900}} in get.",
     "output_type": "error",
     "traceback": [
      "\u001b[0;31m---------------------------------------------------------------------------\u001b[0m",
      "\u001b[0;31mValueError\u001b[0m                                Traceback (most recent call last)",
      "Cell \u001b[0;32mIn[75], line 1\u001b[0m\n\u001b[0;32m----> 1\u001b[0m outputs \u001b[38;5;241m=\u001b[39m \u001b[43mcollection\u001b[49m\u001b[38;5;241;43m.\u001b[39;49m\u001b[43mget\u001b[49m\u001b[43m(\u001b[49m\n\u001b[1;32m      2\u001b[0m \u001b[43m    \u001b[49m\u001b[38;5;66;43;03m#query_texts=[\"apartment\"],  # or embeddings if you're doing vector search\u001b[39;49;00m\n\u001b[1;32m      3\u001b[0m \u001b[43m    \u001b[49m\u001b[43mwhere\u001b[49m\u001b[38;5;241;43m=\u001b[39;49m\u001b[43m{\u001b[49m\n\u001b[1;32m      4\u001b[0m \u001b[43m        \u001b[49m\u001b[38;5;124;43m\"\u001b[39;49m\u001b[38;5;124;43mbathrooms\u001b[39;49m\u001b[38;5;124;43m\"\u001b[39;49m\u001b[43m:\u001b[49m\u001b[43m \u001b[49m\u001b[38;5;241;43m1.0\u001b[39;49m\u001b[43m,\u001b[49m\n\u001b[1;32m      5\u001b[0m \u001b[43m        \u001b[49m\u001b[38;5;124;43m\"\u001b[39;49m\u001b[38;5;124;43mbedrooms\u001b[39;49m\u001b[38;5;124;43m\"\u001b[39;49m\u001b[43m:\u001b[49m\u001b[43m \u001b[49m\u001b[43m{\u001b[49m\u001b[38;5;124;43m\"\u001b[39;49m\u001b[38;5;124;43m$gte\u001b[39;49m\u001b[38;5;124;43m\"\u001b[39;49m\u001b[43m:\u001b[49m\u001b[43m \u001b[49m\u001b[38;5;241;43m1\u001b[39;49m\u001b[43m,\u001b[49m\u001b[43m \u001b[49m\u001b[38;5;124;43m\"\u001b[39;49m\u001b[38;5;124;43m$lt\u001b[39;49m\u001b[38;5;124;43m\"\u001b[39;49m\u001b[43m:\u001b[49m\u001b[43m \u001b[49m\u001b[38;5;241;43m2\u001b[39;49m\u001b[43m}\u001b[49m\u001b[43m,\u001b[49m\n\u001b[1;32m      6\u001b[0m \u001b[43m        \u001b[49m\u001b[38;5;124;43m\"\u001b[39;49m\u001b[38;5;124;43myear_built\u001b[39;49m\u001b[38;5;124;43m\"\u001b[39;49m\u001b[43m:\u001b[49m\u001b[43m \u001b[49m\u001b[43m{\u001b[49m\u001b[38;5;124;43m\"\u001b[39;49m\u001b[38;5;124;43m$gte\u001b[39;49m\u001b[38;5;124;43m\"\u001b[39;49m\u001b[43m:\u001b[49m\u001b[43m \u001b[49m\u001b[38;5;241;43m1900\u001b[39;49m\u001b[43m}\u001b[49m\n\u001b[1;32m      7\u001b[0m \u001b[43m    \u001b[49m\u001b[43m}\u001b[49m\u001b[43m,\u001b[49m\n\u001b[1;32m      8\u001b[0m \u001b[43m    \u001b[49m\u001b[38;5;66;43;03m#n_results=10\u001b[39;49;00m\n\u001b[1;32m      9\u001b[0m \u001b[43m)\u001b[49m\n\u001b[1;32m     11\u001b[0m \u001b[38;5;28mprint\u001b[39m(outputs)\n",
      "File \u001b[0;32m~/Desktop/My Documents/Academic/Online Courses/Udacity Generative AI/Course 5 Building Generative AI Solutions/project_personalized-real-estate-agent/venv/lib/python3.9/site-packages/chromadb/api/models/Collection.py:124\u001b[0m, in \u001b[0;36mCollection.get\u001b[0;34m(self, ids, where, limit, offset, where_document, include)\u001b[0m\n\u001b[1;32m    100\u001b[0m \u001b[38;5;28;01mdef\u001b[39;00m\u001b[38;5;250m \u001b[39m\u001b[38;5;21mget\u001b[39m(\n\u001b[1;32m    101\u001b[0m     \u001b[38;5;28mself\u001b[39m,\n\u001b[1;32m    102\u001b[0m     ids: Optional[OneOrMany[ID]] \u001b[38;5;241m=\u001b[39m \u001b[38;5;28;01mNone\u001b[39;00m,\n\u001b[0;32m   (...)\u001b[0m\n\u001b[1;32m    107\u001b[0m     include: Include \u001b[38;5;241m=\u001b[39m [\u001b[38;5;124m\"\u001b[39m\u001b[38;5;124mmetadatas\u001b[39m\u001b[38;5;124m\"\u001b[39m, \u001b[38;5;124m\"\u001b[39m\u001b[38;5;124mdocuments\u001b[39m\u001b[38;5;124m\"\u001b[39m],\n\u001b[1;32m    108\u001b[0m ) \u001b[38;5;241m-\u001b[39m\u001b[38;5;241m>\u001b[39m GetResult:\n\u001b[1;32m    109\u001b[0m \u001b[38;5;250m    \u001b[39m\u001b[38;5;124;03m\"\"\"Get embeddings and their associate data from the data store. If no ids or where filter is provided returns\u001b[39;00m\n\u001b[1;32m    110\u001b[0m \u001b[38;5;124;03m    all embeddings up to limit starting at offset.\u001b[39;00m\n\u001b[1;32m    111\u001b[0m \n\u001b[0;32m   (...)\u001b[0m\n\u001b[1;32m    122\u001b[0m \n\u001b[1;32m    123\u001b[0m \u001b[38;5;124;03m    \"\"\"\u001b[39;00m\n\u001b[0;32m--> 124\u001b[0m     get_request \u001b[38;5;241m=\u001b[39m \u001b[38;5;28;43mself\u001b[39;49m\u001b[38;5;241;43m.\u001b[39;49m\u001b[43m_validate_and_prepare_get_request\u001b[49m\u001b[43m(\u001b[49m\n\u001b[1;32m    125\u001b[0m \u001b[43m        \u001b[49m\u001b[43mids\u001b[49m\u001b[38;5;241;43m=\u001b[39;49m\u001b[43mids\u001b[49m\u001b[43m,\u001b[49m\n\u001b[1;32m    126\u001b[0m \u001b[43m        \u001b[49m\u001b[43mwhere\u001b[49m\u001b[38;5;241;43m=\u001b[39;49m\u001b[43mwhere\u001b[49m\u001b[43m,\u001b[49m\n\u001b[1;32m    127\u001b[0m \u001b[43m        \u001b[49m\u001b[43mwhere_document\u001b[49m\u001b[38;5;241;43m=\u001b[39;49m\u001b[43mwhere_document\u001b[49m\u001b[43m,\u001b[49m\n\u001b[1;32m    128\u001b[0m \u001b[43m        \u001b[49m\u001b[43minclude\u001b[49m\u001b[38;5;241;43m=\u001b[39;49m\u001b[43minclude\u001b[49m\u001b[43m,\u001b[49m\n\u001b[1;32m    129\u001b[0m \u001b[43m    \u001b[49m\u001b[43m)\u001b[49m\n\u001b[1;32m    131\u001b[0m     get_results \u001b[38;5;241m=\u001b[39m \u001b[38;5;28mself\u001b[39m\u001b[38;5;241m.\u001b[39m_client\u001b[38;5;241m.\u001b[39m_get(\n\u001b[1;32m    132\u001b[0m         collection_id\u001b[38;5;241m=\u001b[39m\u001b[38;5;28mself\u001b[39m\u001b[38;5;241m.\u001b[39mid,\n\u001b[1;32m    133\u001b[0m         ids\u001b[38;5;241m=\u001b[39mget_request[\u001b[38;5;124m\"\u001b[39m\u001b[38;5;124mids\u001b[39m\u001b[38;5;124m\"\u001b[39m],\n\u001b[0;32m   (...)\u001b[0m\n\u001b[1;32m    140\u001b[0m         database\u001b[38;5;241m=\u001b[39m\u001b[38;5;28mself\u001b[39m\u001b[38;5;241m.\u001b[39mdatabase,\n\u001b[1;32m    141\u001b[0m     )\n\u001b[1;32m    142\u001b[0m     \u001b[38;5;28;01mreturn\u001b[39;00m \u001b[38;5;28mself\u001b[39m\u001b[38;5;241m.\u001b[39m_transform_get_response(\n\u001b[1;32m    143\u001b[0m         response\u001b[38;5;241m=\u001b[39mget_results, include\u001b[38;5;241m=\u001b[39mget_request[\u001b[38;5;124m\"\u001b[39m\u001b[38;5;124minclude\u001b[39m\u001b[38;5;124m\"\u001b[39m]\n\u001b[1;32m    144\u001b[0m     )\n",
      "File \u001b[0;32m~/Desktop/My Documents/Academic/Online Courses/Udacity Generative AI/Course 5 Building Generative AI Solutions/project_personalized-real-estate-agent/venv/lib/python3.9/site-packages/chromadb/api/models/CollectionCommon.py:95\u001b[0m, in \u001b[0;36mvalidation_context.<locals>.decorator.<locals>.wrapper\u001b[0;34m(self, *args, **kwargs)\u001b[0m\n\u001b[1;32m     92\u001b[0m \u001b[38;5;129m@functools\u001b[39m\u001b[38;5;241m.\u001b[39mwraps(func)\n\u001b[1;32m     93\u001b[0m \u001b[38;5;28;01mdef\u001b[39;00m\u001b[38;5;250m \u001b[39m\u001b[38;5;21mwrapper\u001b[39m(\u001b[38;5;28mself\u001b[39m: Any, \u001b[38;5;241m*\u001b[39margs: Any, \u001b[38;5;241m*\u001b[39m\u001b[38;5;241m*\u001b[39mkwargs: Any) \u001b[38;5;241m-\u001b[39m\u001b[38;5;241m>\u001b[39m T:\n\u001b[1;32m     94\u001b[0m     \u001b[38;5;28;01mtry\u001b[39;00m:\n\u001b[0;32m---> 95\u001b[0m         \u001b[38;5;28;01mreturn\u001b[39;00m \u001b[43mfunc\u001b[49m\u001b[43m(\u001b[49m\u001b[38;5;28;43mself\u001b[39;49m\u001b[43m,\u001b[49m\u001b[43m \u001b[49m\u001b[38;5;241;43m*\u001b[39;49m\u001b[43margs\u001b[49m\u001b[43m,\u001b[49m\u001b[43m \u001b[49m\u001b[38;5;241;43m*\u001b[39;49m\u001b[38;5;241;43m*\u001b[39;49m\u001b[43mkwargs\u001b[49m\u001b[43m)\u001b[49m\n\u001b[1;32m     96\u001b[0m     \u001b[38;5;28;01mexcept\u001b[39;00m \u001b[38;5;167;01mException\u001b[39;00m \u001b[38;5;28;01mas\u001b[39;00m e:\n\u001b[1;32m     97\u001b[0m         msg \u001b[38;5;241m=\u001b[39m \u001b[38;5;124mf\u001b[39m\u001b[38;5;124m\"\u001b[39m\u001b[38;5;132;01m{\u001b[39;00m\u001b[38;5;28mstr\u001b[39m(e)\u001b[38;5;132;01m}\u001b[39;00m\u001b[38;5;124m in \u001b[39m\u001b[38;5;132;01m{\u001b[39;00mname\u001b[38;5;132;01m}\u001b[39;00m\u001b[38;5;124m.\u001b[39m\u001b[38;5;124m\"\u001b[39m\n",
      "File \u001b[0;32m~/Desktop/My Documents/Academic/Online Courses/Udacity Generative AI/Course 5 Building Generative AI Solutions/project_personalized-real-estate-agent/venv/lib/python3.9/site-packages/chromadb/api/models/CollectionCommon.py:253\u001b[0m, in \u001b[0;36mCollectionCommon._validate_and_prepare_get_request\u001b[0;34m(self, ids, where, where_document, include)\u001b[0m\n\u001b[1;32m    250\u001b[0m \u001b[38;5;28;01mif\u001b[39;00m unpacked_ids \u001b[38;5;129;01mis\u001b[39;00m \u001b[38;5;129;01mnot\u001b[39;00m \u001b[38;5;28;01mNone\u001b[39;00m:\n\u001b[1;32m    251\u001b[0m     validate_ids(ids\u001b[38;5;241m=\u001b[39munpacked_ids)\n\u001b[0;32m--> 253\u001b[0m \u001b[43mvalidate_filter_set\u001b[49m\u001b[43m(\u001b[49m\u001b[43mfilter_set\u001b[49m\u001b[38;5;241;43m=\u001b[39;49m\u001b[43mfilters\u001b[49m\u001b[43m)\u001b[49m\n\u001b[1;32m    254\u001b[0m validate_include(include\u001b[38;5;241m=\u001b[39minclude, dissalowed\u001b[38;5;241m=\u001b[39m[\u001b[38;5;124m\"\u001b[39m\u001b[38;5;124mdistances\u001b[39m\u001b[38;5;124m\"\u001b[39m])\n\u001b[1;32m    256\u001b[0m \u001b[38;5;28;01mif\u001b[39;00m \u001b[38;5;124m\"\u001b[39m\u001b[38;5;124mdata\u001b[39m\u001b[38;5;124m\"\u001b[39m \u001b[38;5;129;01min\u001b[39;00m include \u001b[38;5;129;01mand\u001b[39;00m \u001b[38;5;28mself\u001b[39m\u001b[38;5;241m.\u001b[39m_data_loader \u001b[38;5;129;01mis\u001b[39;00m \u001b[38;5;28;01mNone\u001b[39;00m:\n",
      "File \u001b[0;32m~/Desktop/My Documents/Academic/Online Courses/Udacity Generative AI/Course 5 Building Generative AI Solutions/project_personalized-real-estate-agent/venv/lib/python3.9/site-packages/chromadb/api/types.py:418\u001b[0m, in \u001b[0;36mvalidate_filter_set\u001b[0;34m(filter_set)\u001b[0m\n\u001b[1;32m    416\u001b[0m \u001b[38;5;28;01mdef\u001b[39;00m\u001b[38;5;250m \u001b[39m\u001b[38;5;21mvalidate_filter_set\u001b[39m(filter_set: FilterSet) \u001b[38;5;241m-\u001b[39m\u001b[38;5;241m>\u001b[39m \u001b[38;5;28;01mNone\u001b[39;00m:\n\u001b[1;32m    417\u001b[0m     \u001b[38;5;28;01mif\u001b[39;00m filter_set[\u001b[38;5;124m\"\u001b[39m\u001b[38;5;124mwhere\u001b[39m\u001b[38;5;124m\"\u001b[39m] \u001b[38;5;129;01mis\u001b[39;00m \u001b[38;5;129;01mnot\u001b[39;00m \u001b[38;5;28;01mNone\u001b[39;00m:\n\u001b[0;32m--> 418\u001b[0m         \u001b[43mvalidate_where\u001b[49m\u001b[43m(\u001b[49m\u001b[43mfilter_set\u001b[49m\u001b[43m[\u001b[49m\u001b[38;5;124;43m\"\u001b[39;49m\u001b[38;5;124;43mwhere\u001b[39;49m\u001b[38;5;124;43m\"\u001b[39;49m\u001b[43m]\u001b[49m\u001b[43m)\u001b[49m\n\u001b[1;32m    419\u001b[0m     \u001b[38;5;28;01mif\u001b[39;00m filter_set[\u001b[38;5;124m\"\u001b[39m\u001b[38;5;124mwhere_document\u001b[39m\u001b[38;5;124m\"\u001b[39m] \u001b[38;5;129;01mis\u001b[39;00m \u001b[38;5;129;01mnot\u001b[39;00m \u001b[38;5;28;01mNone\u001b[39;00m:\n\u001b[1;32m    420\u001b[0m         validate_where_document(filter_set[\u001b[38;5;124m\"\u001b[39m\u001b[38;5;124mwhere_document\u001b[39m\u001b[38;5;124m\"\u001b[39m])\n",
      "File \u001b[0;32m~/Desktop/My Documents/Academic/Online Courses/Udacity Generative AI/Course 5 Building Generative AI Solutions/project_personalized-real-estate-agent/venv/lib/python3.9/site-packages/chromadb/api/types.py:803\u001b[0m, in \u001b[0;36mvalidate_where\u001b[0;34m(where)\u001b[0m\n\u001b[1;32m    801\u001b[0m     \u001b[38;5;28;01mraise\u001b[39;00m \u001b[38;5;167;01mValueError\u001b[39;00m(\u001b[38;5;124mf\u001b[39m\u001b[38;5;124m\"\u001b[39m\u001b[38;5;124mExpected where to be a dict, got \u001b[39m\u001b[38;5;132;01m{\u001b[39;00mwhere\u001b[38;5;132;01m}\u001b[39;00m\u001b[38;5;124m\"\u001b[39m)\n\u001b[1;32m    802\u001b[0m \u001b[38;5;28;01mif\u001b[39;00m \u001b[38;5;28mlen\u001b[39m(where) \u001b[38;5;241m!=\u001b[39m \u001b[38;5;241m1\u001b[39m:\n\u001b[0;32m--> 803\u001b[0m     \u001b[38;5;28;01mraise\u001b[39;00m \u001b[38;5;167;01mValueError\u001b[39;00m(\u001b[38;5;124mf\u001b[39m\u001b[38;5;124m\"\u001b[39m\u001b[38;5;124mExpected where to have exactly one operator, got \u001b[39m\u001b[38;5;132;01m{\u001b[39;00mwhere\u001b[38;5;132;01m}\u001b[39;00m\u001b[38;5;124m\"\u001b[39m)\n\u001b[1;32m    804\u001b[0m \u001b[38;5;28;01mfor\u001b[39;00m key, value \u001b[38;5;129;01min\u001b[39;00m where\u001b[38;5;241m.\u001b[39mitems():\n\u001b[1;32m    805\u001b[0m     \u001b[38;5;28;01mif\u001b[39;00m \u001b[38;5;129;01mnot\u001b[39;00m \u001b[38;5;28misinstance\u001b[39m(key, \u001b[38;5;28mstr\u001b[39m):\n",
      "\u001b[0;31mValueError\u001b[0m: Expected where to have exactly one operator, got {'bathrooms': 1.0, 'bedrooms': {'$gte': 1, '$lt': 2}, 'year_built': {'$gte': 1900}} in get."
     ]
    }
   ],
   "source": [
    "outputs = collection.get(\n",
    "    #query_texts=[\"apartment\"],  # or embeddings if you're doing vector search\n",
    "    where={\n",
    "        \"bathrooms\": 1.0,\n",
    "        \"bedrooms\": {\"$gte\": 1, \"$lt\": 2},\n",
    "        \"year_built\": {\"$gte\": 1900}\n",
    "    },\n",
    "    #n_results=10\n",
    ")\n",
    "\n",
    "print(outputs)"
   ]
  },
  {
   "cell_type": "code",
   "execution_count": null,
   "metadata": {},
   "outputs": [],
   "source": []
  }
 ],
 "metadata": {
  "kernelspec": {
   "display_name": "Python (myenv)",
   "language": "python",
   "name": "venv"
  },
  "language_info": {
   "codemirror_mode": {
    "name": "ipython",
    "version": 3
   },
   "file_extension": ".py",
   "mimetype": "text/x-python",
   "name": "python",
   "nbconvert_exporter": "python",
   "pygments_lexer": "ipython3",
   "version": "3.9.12"
  }
 },
 "nbformat": 4,
 "nbformat_minor": 2
}
