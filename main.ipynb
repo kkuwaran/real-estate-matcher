{
 "cells": [
  {
   "cell_type": "code",
   "execution_count": 1,
   "metadata": {},
   "outputs": [],
   "source": [
    "import os\n",
    "from pathlib import Path\n",
    "import json\n",
    "\n",
    "from dotenv import load_dotenv\n",
    "import chromadb\n",
    "from chromadb.config import DEFAULT_TENANT, DEFAULT_DATABASE, Settings\n",
    "from chromadb.utils import embedding_functions\n",
    "\n",
    "\n",
    "# Load variables from .env into environment\n",
    "load_dotenv()\n",
    "\n",
    "OPENAI_API_KEY = os.getenv(\"OPENAI_API_KEY\")\n",
    "OPENAI_API_BASE = os.getenv(\"OPENAI_API_BASE\")"
   ]
  },
  {
   "cell_type": "code",
   "execution_count": 2,
   "metadata": {},
   "outputs": [
    {
     "name": "stdout",
     "output_type": "stream",
     "text": [
      "<class 'list'>\n",
      "No. of data: 30\n"
     ]
    },
    {
     "data": {
      "text/plain": [
       "{'id': 1,\n",
       " 'title': 'Cozy 2-Bedroom Condo in Downtown',\n",
       " 'description': 'This modern 2-bedroom, 1.5-bathroom condo offers an open floor plan with abundant natural light, hardwood floors throughout, and a stylish kitchen with stainless steel appliances and granite countertops. The spacious living area leads to a private balcony, perfect for enjoying city views. The master bedroom includes a walk-in closet, while the second bedroom is ideal for a home office or guest space. The building features secured entry, an on-site gym, and a rooftop lounge.',\n",
       " 'neighborhood_description': 'Located in the heart of downtown San Francisco, this condo is within walking distance of trendy cafes, upscale restaurants, and boutique shops. The neighborhood boasts excellent public transportation options, making commuting a breeze. Nearby parks and cultural attractions add to the vibrant urban lifestyle.',\n",
       " 'location': 'San Francisco, CA',\n",
       " 'neighborhood': 'Downtown',\n",
       " 'property_type': 'Condo',\n",
       " 'year_built': 2010,\n",
       " 'price': 320000,\n",
       " 'bedrooms': 2,\n",
       " 'bathrooms': 1.5,\n",
       " 'area_sqft': 850,\n",
       " 'listed_date': '2025-04-01'}"
      ]
     },
     "metadata": {},
     "output_type": "display_data"
    }
   ],
   "source": [
    "# Get the current working directory\n",
    "current_dir = Path.cwd()\n",
    "\n",
    "# Path to the JSON file\n",
    "json_path = current_dir / \"real-estate-listings.json\"\n",
    "\n",
    "# Open and load the JSON file\n",
    "with json_path.open(\"r\", encoding=\"utf-8\") as f:\n",
    "    real_estate_listings = json.load(f)\n",
    "\n",
    "# Check the type and first item\n",
    "print(type(real_estate_listings))  # <class 'list'>\n",
    "print(\"No. of data:\", len(real_estate_listings))\n",
    "display(real_estate_listings[0])      # prints the first listing"
   ]
  },
  {
   "cell_type": "code",
   "execution_count": 3,
   "metadata": {},
   "outputs": [],
   "source": [
    "collection_name = \"real_estate_listings_v2\"\n",
    "\n",
    "persist_directory = current_dir / \"chromadb_data\"\n",
    "client = chromadb.PersistentClient(\n",
    "    path=persist_directory,\n",
    "    settings=Settings(),\n",
    "    tenant=DEFAULT_TENANT,\n",
    "    database=DEFAULT_DATABASE,\n",
    ")"
   ]
  },
  {
   "cell_type": "code",
   "execution_count": 4,
   "metadata": {},
   "outputs": [],
   "source": [
    "# Delete a collection\n",
    "client.delete_collection(collection_name)"
   ]
  },
  {
   "cell_type": "code",
   "execution_count": 5,
   "metadata": {},
   "outputs": [
    {
     "name": "stdout",
     "output_type": "stream",
     "text": [
      "collection_names: ['real_estate_listings']\n"
     ]
    }
   ],
   "source": [
    "# Create a collection or get an existing one\n",
    "collection_names = [c.name for c in client.list_collections()]\n",
    "print(\"collection_names:\", collection_names)\n",
    "if collection_name in collection_names:\n",
    "    collection = client.get_collection(collection_name)\n",
    "else:\n",
    "    collection = client.create_collection(collection_name)"
   ]
  },
  {
   "cell_type": "code",
   "execution_count": 6,
   "metadata": {},
   "outputs": [
    {
     "name": "stdout",
     "output_type": "stream",
     "text": [
      "dict_keys(['ids', 'embeddings', 'documents', 'uris', 'included', 'data', 'metadatas'])\n",
      "No. of data: 0 \n",
      "\n",
      "\n"
     ]
    }
   ],
   "source": [
    "# Get all data from the collection\n",
    "all_data = collection.get()\n",
    "\n",
    "# `all_data` is a dictionary with keys like 'ids', 'embeddings', 'documents', 'uris', 'included', 'data', 'metadatas'\n",
    "print(all_data.keys()) \n",
    "metadatas = all_data['metadatas']\n",
    "print(\"No. of data:\", len(metadatas), '\\n\\n')\n",
    "\n",
    "# Iterate through the collection metadata\n",
    "for i, listing in enumerate(metadatas):\n",
    "    print(f\"Listing {i+1}:\")\n",
    "    for key, value in listing.items():\n",
    "        print(f\"  {key}: {value}\")\n",
    "    print(\"-\" * 40)"
   ]
  },
  {
   "cell_type": "code",
   "execution_count": 7,
   "metadata": {},
   "outputs": [],
   "source": [
    "# Setup embedding function\n",
    "# https://platform.openai.com/docs/guides/embeddings/embedding-models\n",
    "embedding_function = embedding_functions.OpenAIEmbeddingFunction(\n",
    "    api_base=OPENAI_API_BASE,\n",
    "    api_key=OPENAI_API_KEY,\n",
    "    model_name=\"text-embedding-3-small\"\n",
    ")\n",
    "\n",
    "collection.embedding_function = embedding_function"
   ]
  },
  {
   "cell_type": "code",
   "execution_count": 8,
   "metadata": {},
   "outputs": [
    {
     "name": "stdout",
     "output_type": "stream",
     "text": [
      "Inserted 30 listings into Chroma collection 'real_estate_listings_v2'\n"
     ]
    }
   ],
   "source": [
    "ids = [str(listing[\"id\"]) for listing in real_estate_listings]\n",
    "\n",
    "# Construct the document string\n",
    "documents = [\n",
    "    f\"{listing['title']}. {listing['description']} \"\n",
    "    f\"Neighborhood info: {listing['neighborhood_description']}. \"\n",
    "    f\"Location: {listing['location']}, Neighborhood: {listing['neighborhood']}. \"\n",
    "    f\"Type: {listing['property_type']}, Bedrooms: {listing['bedrooms']}, \"\n",
    "    f\"Bathrooms: {listing['bathrooms']}, Area: {listing['area_sqft']} sqft, \"\n",
    "    f\"Year built: {listing['year_built']}, Price: ${listing['price']}.\"\n",
    "    for listing in real_estate_listings\n",
    "]\n",
    "\n",
    "metadatas = [\n",
    "    {\n",
    "        \"id\": listing[\"id\"],\n",
    "        \"location\": listing[\"location\"],\n",
    "        \"neighborhood\": listing[\"neighborhood\"],\n",
    "        \"property_type\": listing[\"property_type\"],\n",
    "        \"year_built\": listing[\"year_built\"],\n",
    "        \"price\": listing[\"price\"],\n",
    "        \"bedrooms\": listing[\"bedrooms\"],\n",
    "        \"bathrooms\": listing[\"bathrooms\"],\n",
    "        \"area_sqft\": listing[\"area_sqft\"],\n",
    "        \"listed_date\": listing[\"listed_date\"]\n",
    "    } for listing in real_estate_listings\n",
    "]\n",
    "\n",
    "\n",
    "# Add to the collection\n",
    "collection.add(\n",
    "    documents=documents,\n",
    "    metadatas=metadatas,\n",
    "    ids=ids\n",
    ")\n",
    "\n",
    "print(f\"Inserted {len(documents)} listings into Chroma collection '{collection_name}'\")\n"
   ]
  },
  {
   "cell_type": "code",
   "execution_count": 9,
   "metadata": {},
   "outputs": [
    {
     "name": "stdout",
     "output_type": "stream",
     "text": [
      "Total items in collection: 30\n",
      "\n",
      "Get item with ID=2:\n",
      "Embedding Shape: (1, 384)\n",
      "\n",
      "--- Query Results ---\n",
      "Match 1:\n",
      "  Document: Compact 1-Bedroom Apartment in Historic Building. This quaint 1-bedroom, 1-bathroom apartment offers vintage charm combined with modern upgrades. The apartment features exposed brick walls, hardwood floors, and a fully renovated kitchen with stainless steel appliances. It is perfect for those looking for a cozy living space with character. Neighborhood info: Situated in a historic district of Boston, MA, this apartment is surrounded by charming architecture, local cafes, and shops. The neighborhood is vibrant, with easy access to public transportation and close proximity to cultural attractions like museums and theaters.. Location: Boston, MA, Neighborhood: Historic District. Type: Apartment, Bedrooms: 1, Bathrooms: 1.0, Area: 600 sqft, Year built: 1900, Price: $210000.\n",
      "  Metadata: {'bathrooms': 1.0, 'area_sqft': 600, 'price': 210000, 'id': 9, 'location': 'Boston, MA', 'property_type': 'Apartment', 'listed_date': '2025-03-31', 'year_built': 1900, 'bedrooms': 1, 'neighborhood': 'Historic District'}\n",
      "  Distance: 0.5379568338394165\n",
      "\n",
      "Match 2:\n",
      "  Document: Modern Studio Apartment Near University. This compact and efficient studio apartment is perfect for students or young professionals. It offers a modern layout with a fully-equipped kitchen, ample closet space, and large windows that provide plenty of natural light. The building features secured access, on-site laundry, and bike storage. Neighborhood info: Located just a short walk from the University of Michigan, this studio apartment is ideal for students. The surrounding neighborhood has convenient access to coffee shops, restaurants, and public transportation. The area is lively and safe, offering a great balance between convenience and quiet living.. Location: Ann Arbor, MI, Neighborhood: University District. Type: Apartment, Bedrooms: 0, Bathrooms: 1.0, Area: 450 sqft, Year built: 2010, Price: $150000.\n",
      "  Metadata: {'property_type': 'Apartment', 'price': 150000, 'location': 'Ann Arbor, MI', 'area_sqft': 450, 'bedrooms': 0, 'year_built': 2010, 'bathrooms': 1.0, 'listed_date': '2025-03-28', 'neighborhood': 'University District', 'id': 3}\n",
      "  Distance: 1.1855599880218506\n",
      "\n"
     ]
    }
   ],
   "source": [
    "# 1. Check collection size\n",
    "print(\"Total items in collection:\", collection.count())\n",
    "\n",
    "# retrieve by ID\n",
    "print(\"\\nGet item with ID=2:\")\n",
    "# print(collection.get(ids=[\"2\"]))\n",
    "item = collection.get(ids=[\"2\"], include=[\"embeddings\"])\n",
    "print(\"Embedding Shape:\", item[\"embeddings\"].shape)\n",
    "\n",
    "# 2. Run a sample query (search for something relevant to your documents)\n",
    "query_text = \"historic apartment in Boston\"\n",
    "results = collection.query(\n",
    "    query_texts=[query_text],\n",
    "    n_results=2  # top 2 matches\n",
    ")\n",
    "\n",
    "print(\"\\n--- Query Results ---\")\n",
    "for i in range(len(results[\"documents\"][0])):\n",
    "    print(f\"Match {i+1}:\")\n",
    "    print(\"  Document:\", results[\"documents\"][0][i])\n",
    "    print(\"  Metadata:\", results[\"metadatas\"][0][i])\n",
    "    print(\"  Distance:\", results[\"distances\"][0][i])\n",
    "    print()\n",
    "\n",
    "# # 3. Get a specific item back by ID\n",
    "# doc_id = \"9\"  # or whichever you used\n",
    "# retrieved = collection.get(ids=[doc_id])\n",
    "# print(\"\\n--- Retrieved by ID ---\")\n",
    "# print(retrieved)"
   ]
  },
  {
   "cell_type": "code",
   "execution_count": null,
   "metadata": {},
   "outputs": [],
   "source": []
  }
 ],
 "metadata": {
  "kernelspec": {
   "display_name": "Python (myenv)",
   "language": "python",
   "name": "venv"
  },
  "language_info": {
   "codemirror_mode": {
    "name": "ipython",
    "version": 3
   },
   "file_extension": ".py",
   "mimetype": "text/x-python",
   "name": "python",
   "nbconvert_exporter": "python",
   "pygments_lexer": "ipython3",
   "version": "3.9.12"
  }
 },
 "nbformat": 4,
 "nbformat_minor": 2
}
