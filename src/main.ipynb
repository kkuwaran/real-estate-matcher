{
 "cells": [
  {
   "cell_type": "code",
   "execution_count": 1,
   "id": "74f89568",
   "metadata": {},
   "outputs": [],
   "source": [
    "from pathlib import Path\n",
    "from real_estate_database import Database\n",
    "from real_estate_conversations import RealEstateConversations"
   ]
  },
  {
   "cell_type": "code",
   "execution_count": 2,
   "id": "52f84e04",
   "metadata": {},
   "outputs": [],
   "source": [
    "# Conversation id of agent-buyer to be used (chosen from {1, 2, 3, ..., 6})\n",
    "conv_id = 5\n",
    "\n",
    "\n",
    "# Retrieval parameters\n",
    "n_results = 3  # Number of results to retrieve from the database\n",
    "max_relaxation_level = 5  # Maximum number of condition relaxation iterations\n",
    "\n",
    "# Configuration parameters\n",
    "delete_flag = False\n",
    "verbose = False"
   ]
  },
  {
   "cell_type": "code",
   "execution_count": 3,
   "id": "7429cb79",
   "metadata": {},
   "outputs": [],
   "source": [
    "# Path to ChromaDB persistence directory and collection name\n",
    "project_directory = Path.cwd().parent\n",
    "persist_directory = project_directory / \"chromadb_data\"\n",
    "collection_name = \"real_estate_listings_v3\"\n",
    "\n",
    "# Path to the JSON files\n",
    "catalog_json_path = project_directory / \"data\" / \"real-estate-listings.json\"\n",
    "conv_json_path = project_directory / \"data\" / \"conversations.json\"\n",
    "\n",
    "# Embedding model to use\n",
    "embed_model = \"text-embedding-3-small\""
   ]
  },
  {
   "cell_type": "code",
   "execution_count": 4,
   "id": "69c9e94d",
   "metadata": {},
   "outputs": [
    {
     "name": "stdout",
     "output_type": "stream",
     "text": [
      "*** Retrieving existing collection: 'real_estate_listings_v3' ***\n",
      "Number of documents in collection: 30\n",
      "Loaded 30 records\n",
      "Number of documents in collection: 30\n"
     ]
    }
   ],
   "source": [
    "# Initialize the real estate database\n",
    "database = Database(persist_directory, collection_name, delete_flag=delete_flag, verbose=verbose)\n",
    "# Add real estate data into the database\n",
    "database.add_data(catalog_json_path, embed_model=embed_model)"
   ]
  },
  {
   "cell_type": "code",
   "execution_count": 5,
   "id": "68537eb2",
   "metadata": {},
   "outputs": [
    {
     "name": "stdout",
     "output_type": "stream",
     "text": [
      "Conversation IDs: [1, 2, 3, 4, 5, 6] \n",
      "\n",
      "========== Conversation 5 ==========\n",
      "Agent: Hi! What kind of property are you interested in?\n",
      "Buyer: I’m looking for a luxury villa with a lot of space.\n",
      "Agent: How many bedrooms and bathrooms do you prefer?\n",
      "Buyer: At least 5 bedrooms and 4 bathrooms.\n",
      "Agent: Any must-have amenities?\n",
      "Buyer: A swimming pool, home theater, and large garden.\n",
      "Agent: Do you have a preferred location or neighborhood?\n",
      "Buyer: Somewhere quiet but not too far from the city center.\n",
      "Agent: What’s your budget range?\n",
      "Buyer: Above $1,000,000.\n",
      "\n",
      "=================================== \n",
      "Relaxation Level 0: Querying ...\n",
      "=================================== \n",
      "Relaxation Level 1: Querying ...\n",
      "=================================== \n",
      "Relaxation Level 2: Querying ...\n",
      "========== Rank-1 ==========\n",
      "Property ID: 25\n",
      "Title: Luxury 5-Bedroom Villa with Infinity Pool and Ocean Views\n",
      "Description: This exquisite 5-bedroom, 5-bathroom villa offers luxurious living with breathtaking ocean views. The property features an infinity pool, a hot tub, and expansive outdoor living areas perfect for entertaining. Inside, the villa boasts a chef’s kitchen, an expansive living room with panoramic windows, and a master suite with a private balcony. The property also includes a wine cellar, home gym, and a private movie theater.\n",
      "Neighborhood Info: Situated in a prime location along the coast of Malibu, California, this villa offers privacy and seclusion while being close to world-renowned beaches, restaurants, and shopping. The neighborhood is known for its luxurious homes and tranquil atmosphere.\n",
      "Location: Malibu, CA\n",
      "Neighborhood: Coastal Luxury\n",
      "Property Type: Villa\n",
      "Year Built: 2018 CE\n",
      "Price: $8,500,000\n",
      "Bedrooms: 5\n",
      "Bathroom: 5.0\n",
      "Area: 7500 sq.ft.\n",
      "Listed Date: 2025-04-19\n",
      "\n",
      "\n",
      "========== Rank-2 ==========\n",
      "Property ID: 8\n",
      "Title: 5-Bedroom Family Home on Cul-de-Sac\n",
      "Description: This spacious 5-bedroom, 4-bathroom family home offers a finished basement, a large backyard, and a quiet cul-de-sac location. The home features a formal living room, a family room with a fireplace, and an updated kitchen with modern appliances. The fenced yard provides privacy and is perfect for outdoor activities.\n",
      "Neighborhood Info: Located in a family-friendly neighborhood in Denver, CO, this home is situated on a quiet cul-de-sac, offering peace and privacy. The neighborhood is known for its excellent schools, parks, and nearby shopping centers, making it an ideal location for families.\n",
      "Location: Denver, CO\n",
      "Neighborhood: Cul-de-Sac\n",
      "Property Type: House\n",
      "Year Built: 2005 CE\n",
      "Price: $830,000\n",
      "Bedrooms: 5\n",
      "Bathroom: 4.0\n",
      "Area: 2800 sq.ft.\n",
      "Listed Date: 2025-03-29\n",
      "\n",
      "\n",
      "========== Rank-3 ==========\n",
      "Property ID: 28\n",
      "Title: 5-Bedroom Smart Home with Automated Features\n",
      "Description: This state-of-the-art 5-bedroom, 4-bathroom smart home features the latest home automation technology, including voice-activated lighting, security systems, and climate control. The home also has a home theater room, an indoor swimming pool, and a fully equipped kitchen with smart appliances. The garage has electric car charging stations.\n",
      "Neighborhood Info: Located in a modern, tech-savvy neighborhood in Austin, TX, this smart home is part of a growing community of innovative homes. The area is well-connected with fiber optic internet and is close to tech hubs and co-working spaces.\n",
      "Location: Austin, TX\n",
      "Neighborhood: Tech Community\n",
      "Property Type: Smart Home\n",
      "Year Built: 2024 CE\n",
      "Price: $1,500,000\n",
      "Bedrooms: 5\n",
      "Bathroom: 4.0\n",
      "Area: 4500 sq.ft.\n",
      "Listed Date: 2025-04-17\n",
      "\n",
      "\n"
     ]
    }
   ],
   "source": [
    "# Initialize the real estate conversations\n",
    "conv = RealEstateConversations(conv_json_path, verbose=verbose)\n",
    "# Retrieve matched real estates based on the conversation\n",
    "_ = conv.query_with_progressive_relaxation(conv_id, database, n_results=n_results, max_relaxation_level=max_relaxation_level)\n"
   ]
  },
  {
   "cell_type": "code",
   "execution_count": null,
   "id": "56415d9f",
   "metadata": {},
   "outputs": [],
   "source": []
  }
 ],
 "metadata": {
  "kernelspec": {
   "display_name": "venv (3.9.12)",
   "language": "python",
   "name": "python3"
  },
  "language_info": {
   "codemirror_mode": {
    "name": "ipython",
    "version": 3
   },
   "file_extension": ".py",
   "mimetype": "text/x-python",
   "name": "python",
   "nbconvert_exporter": "python",
   "pygments_lexer": "ipython3",
   "version": "3.9.12"
  }
 },
 "nbformat": 4,
 "nbformat_minor": 5
}
