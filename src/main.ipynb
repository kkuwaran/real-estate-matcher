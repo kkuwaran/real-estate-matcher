{
 "cells": [
  {
   "cell_type": "code",
   "execution_count": 1,
   "id": "74f89568",
   "metadata": {},
   "outputs": [],
   "source": [
    "from pathlib import Path\n",
    "from real_estate_database import Database\n",
    "from real_estate_conversations import RealEstateConversations"
   ]
  },
  {
   "cell_type": "code",
   "execution_count": null,
   "id": "52f84e04",
   "metadata": {},
   "outputs": [],
   "source": [
    "# Conversation id of agent-buyer to be used (chosen from {1, 2, 3, ..., 6})\n",
    "conv_id = 5\n",
    "\n",
    "\n",
    "# Retrieval parameters\n",
    "n_results = 3  # Number of results to retrieve from the database\n",
    "max_relaxation_level = 5  # Maximum number of condition relaxation iterations\n",
    "\n",
    "# Configuration parameters\n",
    "delete_flag = False\n",
    "verbose = False"
   ]
  },
  {
   "cell_type": "code",
   "execution_count": 3,
   "id": "7429cb79",
   "metadata": {},
   "outputs": [],
   "source": [
    "# Path to ChromaDB persistence directory and collection name\n",
    "project_directory = Path.cwd().parent\n",
    "persist_directory = project_directory / \"chromadb_data\"\n",
    "collection_name = \"real_estate_listings_v3\"\n",
    "\n",
    "# Path to the JSON files\n",
    "catalog_json_path = project_directory / \"data\" / \"real-estate-listings.json\"\n",
    "conv_json_path = project_directory / \"data\" / \"conversations.json\"\n",
    "\n",
    "# Embedding model to use\n",
    "embed_model = \"text-embedding-3-small\""
   ]
  },
  {
   "cell_type": "code",
   "execution_count": 4,
   "id": "69c9e94d",
   "metadata": {},
   "outputs": [
    {
     "name": "stdout",
     "output_type": "stream",
     "text": [
      "*** Retrieving existing collection: 'real_estate_listings_v3' ***\n",
      "Number of documents in collection: 30\n",
      "Loaded 30 records\n",
      "Number of documents in collection: 30\n"
     ]
    }
   ],
   "source": [
    "# Initialize the real estate database\n",
    "database = Database(persist_directory, collection_name, delete_flag=delete_flag, verbose=verbose)\n",
    "# Add real estate data into the database\n",
    "database.add_data(catalog_json_path, embed_model=embed_model)"
   ]
  },
  {
   "cell_type": "code",
   "execution_count": 5,
   "id": "68537eb2",
   "metadata": {},
   "outputs": [
    {
     "name": "stdout",
     "output_type": "stream",
     "text": [
      "Conversation IDs: [1, 2, 3, 4, 5, 6, 99, 100] \n",
      "\n",
      "=================================== \n",
      "Relaxation Level 0: Querying ...\n",
      "=================================== \n",
      "Relaxation Level 1: Querying ...\n",
      "=================================== \n",
      "Relaxation Level 2: Querying ...\n",
      "=================================== \n",
      "Relaxation Level 3: Querying ...\n",
      "=================================== \n",
      "Relaxation Level 4: Querying ...\n",
      "=================================== \n",
      "Relaxation Level 5: Querying ...\n",
      "========== Query Results ==========\n",
      "No results found.\n",
      "\n"
     ]
    }
   ],
   "source": [
    "# Initialize the real estate conversations\n",
    "conv = RealEstateConversations(conv_json_path, verbose=verbose)\n",
    "# Retrieve matched real estates based on the conversation\n",
    "_ = conv.query_with_progressive_relaxation(conv_id, database, n_results=n_results, max_relaxation_level=max_relaxation_level)\n"
   ]
  },
  {
   "cell_type": "code",
   "execution_count": null,
   "id": "56415d9f",
   "metadata": {},
   "outputs": [],
   "source": []
  }
 ],
 "metadata": {
  "kernelspec": {
   "display_name": "venv (3.9.12)",
   "language": "python",
   "name": "python3"
  },
  "language_info": {
   "codemirror_mode": {
    "name": "ipython",
    "version": 3
   },
   "file_extension": ".py",
   "mimetype": "text/x-python",
   "name": "python",
   "nbconvert_exporter": "python",
   "pygments_lexer": "ipython3",
   "version": "3.9.12"
  }
 },
 "nbformat": 4,
 "nbformat_minor": 5
}
