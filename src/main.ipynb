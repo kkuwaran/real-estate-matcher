{
 "cells": [
  {
   "cell_type": "code",
   "execution_count": null,
   "id": "74f89568",
   "metadata": {},
   "outputs": [],
   "source": [
    "from pathlib import Path\n",
    "from real_estate_database import Database\n",
    "from real_estate_conversations import RealEstateConversations"
   ]
  },
  {
   "cell_type": "code",
   "execution_count": null,
   "id": "52f84e04",
   "metadata": {},
   "outputs": [],
   "source": [
    "# Parameters for conversation retrieval\n",
    "conv_id = 1\n",
    "\n",
    "# Number of results to retrieve from the database\n",
    "n_results = 1\n",
    "\n",
    "# Configuration parameters\n",
    "delete_flag = False\n",
    "verbose = True"
   ]
  },
  {
   "cell_type": "code",
   "execution_count": null,
   "id": "7429cb79",
   "metadata": {},
   "outputs": [],
   "source": [
    "# Path to ChromaDB persistence directory and collection name\n",
    "project_directory = Path.cwd().parent\n",
    "persist_directory = project_directory / \"chromadb_data\"\n",
    "collection_name = \"real_estate_listings_v3\"\n",
    "\n",
    "# Path to the JSON files\n",
    "catalog_json_path = project_directory / \"data\" / \"real-estate-listings.json\"\n",
    "conv_json_path = project_directory / \"data\" / \"conversations.json\"\n",
    "\n",
    "# Embedding model to use\n",
    "embed_model = \"text-embedding-3-small\""
   ]
  },
  {
   "cell_type": "code",
   "execution_count": null,
   "id": "69c9e94d",
   "metadata": {},
   "outputs": [],
   "source": [
    "# Initialize the real estate database\n",
    "database = Database(persist_directory, collection_name, delete_flag=delete_flag, verbose=verbose)\n",
    "database.add_data(catalog_json_path, embed_model=embed_model)\n",
    "\n",
    "# Initialize the real estate conversations\n",
    "conv = RealEstateConversations(conv_json_path, verbose=verbose)"
   ]
  },
  {
   "cell_type": "code",
   "execution_count": null,
   "id": "68537eb2",
   "metadata": {},
   "outputs": [],
   "source": [
    "n_results = 3\n",
    "max_relaxation_level = 5\n",
    "\n",
    "\n",
    "_ = conv.query_with_progressive_relaxation(conv_id, database, n_results=n_results, max_relaxation_level=max_relaxation_level)\n"
   ]
  },
  {
   "cell_type": "code",
   "execution_count": null,
   "id": "8c85394c",
   "metadata": {},
   "outputs": [],
   "source": [
    "query_obj = conv.get_query_text_and_conditions(conv_id)\n",
    "\n",
    "\n",
    "# TODO: add feature to relax constraints\n",
    "a, b = query_obj\n",
    "b[4]['price']['$lte'] = 1000000\n",
    "\n",
    "print(b)\n",
    "print()\n",
    "\n",
    "query_outputs = database.query(*query_obj, n_results=n_results)\n",
    "database.display_results(query_outputs)"
   ]
  },
  {
   "cell_type": "code",
   "execution_count": null,
   "id": "56415d9f",
   "metadata": {},
   "outputs": [],
   "source": []
  }
 ],
 "metadata": {
  "kernelspec": {
   "display_name": "venv (3.9.12)",
   "language": "python",
   "name": "python3"
  },
  "language_info": {
   "codemirror_mode": {
    "name": "ipython",
    "version": 3
   },
   "file_extension": ".py",
   "mimetype": "text/x-python",
   "name": "python",
   "nbconvert_exporter": "python",
   "pygments_lexer": "ipython3",
   "version": "3.9.12"
  }
 },
 "nbformat": 4,
 "nbformat_minor": 5
}
