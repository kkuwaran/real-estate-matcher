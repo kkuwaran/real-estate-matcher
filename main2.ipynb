{
 "cells": [
  {
   "cell_type": "code",
   "execution_count": null,
   "id": "69c9e94d",
   "metadata": {},
   "outputs": [],
   "source": [
    "from pathlib import Path\n",
    "from utils import Database\n",
    "\n",
    "collection_name = \"real_estate_listings_v3\"\n",
    "current_dir = Path.cwd()\n",
    "persist_directory = current_dir / \"chromadb_data\"\n",
    "\n",
    "# Get the current working directory\n",
    "current_dir = Path.cwd()\n",
    "\n",
    "# Path to the JSON file\n",
    "json_path = current_dir / \"real-estate-listings.json\"\n",
    "\n",
    "\n",
    "\n",
    "delete_flag = False\n",
    "verbose = True\n",
    "database = Database(persist_directory, collection_name, delete_flag=delete_flag, verbose=verbose)"
   ]
  }
 ],
 "metadata": {
  "language_info": {
   "name": "python"
  }
 },
 "nbformat": 4,
 "nbformat_minor": 5
}
