{
 "cells": [
  {
   "cell_type": "code",
   "execution_count": 1,
   "id": "74f89568",
   "metadata": {},
   "outputs": [],
   "source": [
    "from pathlib import Path\n",
    "from utils import Database\n",
    "from utils_2 import RealEstateConversations"
   ]
  },
  {
   "cell_type": "code",
   "execution_count": 2,
   "id": "69c9e94d",
   "metadata": {},
   "outputs": [
    {
     "name": "stdout",
     "output_type": "stream",
     "text": [
      "collection_names: ['real_estate_listings_v2', 'real_estate_listings']\n",
      "*** Create 'real_estate_listings_v3' collection ***\n",
      "Number of Documents: 0\n",
      "No. of data: 30\n",
      "Number of Documents: 30\n"
     ]
    }
   ],
   "source": [
    "collection_name = \"real_estate_listings_v3\"\n",
    "persist_directory = Path.cwd() / \"chromadb_data\"\n",
    "\n",
    "# Path to the JSON file\n",
    "json_path = Path.cwd() / \"real-estate-listings.json\"\n",
    "embed_model = \"text-embedding-3-small\"\n",
    "\n",
    "\n",
    "\n",
    "delete_flag = True\n",
    "verbose = True\n",
    "\n",
    "database = Database(persist_directory, collection_name, delete_flag=delete_flag, verbose=verbose)\n",
    "database.add_data(json_path, embed_model=embed_model)"
   ]
  },
  {
   "cell_type": "code",
   "execution_count": 3,
   "id": "8c85394c",
   "metadata": {},
   "outputs": [
    {
     "name": "stdout",
     "output_type": "stream",
     "text": [
      "Conversation IDs: [1, 2, 3, 99, 100] \n",
      "\n",
      "========== Conversation 2 ==========\n",
      "Agent: Hello! What kind of property are you looking for today?\n",
      "Buyer: I'm looking for a spacious suburban home for my family.\n",
      "Agent: Great! How many bedrooms and bathrooms do you need?\n",
      "Buyer: At least 4 bedrooms and 3 bathrooms.\n",
      "Agent: Are there any specific amenities you want in the house?\n",
      "Buyer: A large backyard, a garage for two cars, and a modern kitchen would be ideal.\n",
      "Agent: What about the neighborhood? Any preferences?\n",
      "Buyer: A safe, family-friendly area with good schools nearby.\n",
      "Agent: Do you have a budget range in mind?\n",
      "Buyer: Somewhere between $500,000 and $700,000.\n",
      "\n"
     ]
    },
    {
     "data": {
      "text/plain": [
       "{'bedrooms': 4,\n",
       " 'bathrooms': 3,\n",
       " 'property_type': 'home',\n",
       " 'area_min_sqft': None,\n",
       " 'area_max_sqft': None,\n",
       " 'building_max_age': None,\n",
       " 'building_min_year': None,\n",
       " 'amenities': ['large backyard', 'garage for two cars', 'modern kitchen'],\n",
       " 'furnished': False,\n",
       " 'location': 'suburban',\n",
       " 'neighborhood_features': ['safe', 'family-friendly', 'good schools nearby'],\n",
       " 'transportation': [],\n",
       " 'parking_required': True,\n",
       " 'pet_friendly_required': False,\n",
       " 'min_budget': 500000,\n",
       " 'max_budget': 700000}"
      ]
     },
     "metadata": {},
     "output_type": "display_data"
    },
    {
     "ename": "ValueError",
     "evalue": "unexpected '{' in field name",
     "output_type": "error",
     "traceback": [
      "\u001b[0;31m---------------------------------------------------------------------------\u001b[0m",
      "\u001b[0;31mValueError\u001b[0m                                Traceback (most recent call last)",
      "Cell \u001b[0;32mIn[3], line 8\u001b[0m\n\u001b[1;32m      4\u001b[0m n_results \u001b[38;5;241m=\u001b[39m \u001b[38;5;241m1\u001b[39m\n\u001b[1;32m      7\u001b[0m conv \u001b[38;5;241m=\u001b[39m RealEstateConversations(conv_json_path, verbose\u001b[38;5;241m=\u001b[39mverbose)\n\u001b[0;32m----> 8\u001b[0m obj \u001b[38;5;241m=\u001b[39m \u001b[43mconv\u001b[49m\u001b[38;5;241;43m.\u001b[39;49m\u001b[43mget_query_and_conditions\u001b[49m\u001b[43m(\u001b[49m\u001b[43mconv_id\u001b[49m\u001b[43m)\u001b[49m\n\u001b[1;32m      9\u001b[0m query_outputs \u001b[38;5;241m=\u001b[39m database\u001b[38;5;241m.\u001b[39mquery_db(\u001b[38;5;241m*\u001b[39mobj, n_results\u001b[38;5;241m=\u001b[39mn_results)\n\u001b[1;32m     10\u001b[0m database\u001b[38;5;241m.\u001b[39mdisplay_query_outputs(query_outputs)\n",
      "File \u001b[0;32m~/Desktop/My Documents/Academic/Online Courses/Udacity Generative AI/Course 5 Building Generative AI Solutions/project_personalized-real-estate-agent/utils_2.py:169\u001b[0m, in \u001b[0;36mRealEstateConversations.get_query_and_conditions\u001b[0;34m(self, conv_id)\u001b[0m\n\u001b[1;32m    167\u001b[0m conversation_text \u001b[38;5;241m=\u001b[39m \u001b[38;5;28mself\u001b[39m\u001b[38;5;241m.\u001b[39m_get_conversation_str(conv_id)\n\u001b[1;32m    168\u001b[0m buyer_prefs \u001b[38;5;241m=\u001b[39m \u001b[38;5;28mself\u001b[39m\u001b[38;5;241m.\u001b[39m_extract_preferences(conversation_text)\n\u001b[0;32m--> 169\u001b[0m query_text \u001b[38;5;241m=\u001b[39m \u001b[38;5;28;43mself\u001b[39;49m\u001b[38;5;241;43m.\u001b[39;49m\u001b[43m_get_query_text\u001b[49m\u001b[43m(\u001b[49m\u001b[43mbuyer_prefs\u001b[49m\u001b[43m)\u001b[49m\n\u001b[1;32m    170\u001b[0m conditions \u001b[38;5;241m=\u001b[39m \u001b[38;5;28mself\u001b[39m\u001b[38;5;241m.\u001b[39m_get_conditions(buyer_prefs)\n\u001b[1;32m    171\u001b[0m \u001b[38;5;28;01mreturn\u001b[39;00m query_text, conditions\n",
      "File \u001b[0;32m~/Desktop/My Documents/Academic/Online Courses/Udacity Generative AI/Course 5 Building Generative AI Solutions/project_personalized-real-estate-agent/utils_2.py:127\u001b[0m, in \u001b[0;36mRealEstateConversations._get_query_text\u001b[0;34m(self, prefs)\u001b[0m\n\u001b[1;32m    124\u001b[0m \u001b[38;5;28;01mdef\u001b[39;00m\u001b[38;5;250m \u001b[39m\u001b[38;5;21m_get_query_text\u001b[39m(\u001b[38;5;28mself\u001b[39m, prefs: BuyerPreferences):\n\u001b[1;32m    126\u001b[0m     buyer_preferences \u001b[38;5;241m=\u001b[39m prefs\u001b[38;5;241m.\u001b[39mmodel_dump()\n\u001b[0;32m--> 127\u001b[0m     query_text \u001b[38;5;241m=\u001b[39m \u001b[38;5;28;43mself\u001b[39;49m\u001b[38;5;241;43m.\u001b[39;49m\u001b[43mQUERY_TEXT_TEMPLATE\u001b[49m\u001b[38;5;241;43m.\u001b[39;49m\u001b[43mformat\u001b[49m\u001b[43m(\u001b[49m\u001b[38;5;241;43m*\u001b[39;49m\u001b[38;5;241;43m*\u001b[39;49m\u001b[43mbuyer_preferences\u001b[49m\u001b[43m)\u001b[49m\n\u001b[1;32m    128\u001b[0m     \u001b[38;5;28;01mreturn\u001b[39;00m query_text\n",
      "\u001b[0;31mValueError\u001b[0m: unexpected '{' in field name"
     ]
    }
   ],
   "source": [
    "conv_json_path = Path.cwd() / \"conversations.json\"\n",
    "\n",
    "conv_id = 2\n",
    "n_results = 1\n",
    "\n",
    "\n",
    "conv = RealEstateConversations(conv_json_path, verbose=verbose)\n",
    "obj = conv.get_query_and_conditions(conv_id)\n",
    "query_outputs = database.query_db(*obj, n_results=n_results)\n",
    "database.display_query_outputs(query_outputs)"
   ]
  },
  {
   "cell_type": "code",
   "execution_count": 5,
   "id": "9ad6d623",
   "metadata": {},
   "outputs": [
    {
     "ename": "ValueError",
     "evalue": "Single '}' encountered in format string",
     "output_type": "error",
     "traceback": [
      "\u001b[0;31m---------------------------------------------------------------------------\u001b[0m",
      "\u001b[0;31mValueError\u001b[0m                                Traceback (most recent call last)",
      "Cell \u001b[0;32mIn[5], line 3\u001b[0m\n\u001b[1;32m      1\u001b[0m text \u001b[38;5;241m=\u001b[39m \u001b[38;5;124m\"\u001b[39m\u001b[38;5;124m- Location: \u001b[39m\u001b[38;5;124m{{\u001b[39m\u001b[38;5;124mlocation} if \u001b[39m\u001b[38;5;132;01m{location}\u001b[39;00m\u001b[38;5;124m else \u001b[39m\u001b[38;5;124m'\u001b[39m\u001b[38;5;124mAny\u001b[39m\u001b[38;5;124m'\u001b[39m\u001b[38;5;124m}\u001b[39m\u001b[38;5;124m\"\u001b[39m\n\u001b[0;32m----> 3\u001b[0m \u001b[38;5;28mprint\u001b[39m(\u001b[43mtext\u001b[49m\u001b[38;5;241;43m.\u001b[39;49m\u001b[43mformat\u001b[49m\u001b[43m(\u001b[49m\u001b[43mlocation\u001b[49m\u001b[38;5;241;43m=\u001b[39;49m\u001b[38;5;124;43m\"\u001b[39;49m\u001b[38;5;124;43mAAAA\u001b[39;49m\u001b[38;5;124;43m\"\u001b[39;49m\u001b[43m)\u001b[49m)\n",
      "\u001b[0;31mValueError\u001b[0m: Single '}' encountered in format string"
     ]
    }
   ],
   "source": [
    "text = \"- Location: {{location} if {location} else 'Any'}\"\n",
    "\n",
    "print(text.format(location=\"AAAA\"))"
   ]
  },
  {
   "cell_type": "code",
   "execution_count": 6,
   "id": "2dcc9a23",
   "metadata": {},
   "outputs": [
    {
     "ename": "ValueError",
     "evalue": "unexpected '{' in field name",
     "output_type": "error",
     "traceback": [
      "\u001b[0;31m---------------------------------------------------------------------------\u001b[0m",
      "\u001b[0;31mValueError\u001b[0m                                Traceback (most recent call last)",
      "Cell \u001b[0;32mIn[6], line 2\u001b[0m\n\u001b[1;32m      1\u001b[0m text2 \u001b[38;5;241m=\u001b[39m \u001b[38;5;124m\"\u001b[39m\u001b[38;5;124m- Pet friendly required: \u001b[39m\u001b[38;5;124m{\u001b[39m\u001b[38;5;124m'\u001b[39m\u001b[38;5;124mYes\u001b[39m\u001b[38;5;124m'\u001b[39m\u001b[38;5;124m if \u001b[39m\u001b[38;5;132;01m{pet_friendly_required}\u001b[39;00m\u001b[38;5;124m else \u001b[39m\u001b[38;5;124m'\u001b[39m\u001b[38;5;124mNo\u001b[39m\u001b[38;5;124m'\u001b[39m\u001b[38;5;124m}\u001b[39m\u001b[38;5;124m\"\u001b[39m\n\u001b[0;32m----> 2\u001b[0m \u001b[38;5;28mprint\u001b[39m(\u001b[43mtext2\u001b[49m\u001b[38;5;241;43m.\u001b[39;49m\u001b[43mformat\u001b[49m\u001b[43m(\u001b[49m\u001b[43mpet_friendly_required\u001b[49m\u001b[38;5;241;43m=\u001b[39;49m\u001b[38;5;124;43m\"\u001b[39;49m\u001b[38;5;124;43mA\u001b[39;49m\u001b[38;5;124;43m\"\u001b[39;49m\u001b[43m)\u001b[49m)\n",
      "\u001b[0;31mValueError\u001b[0m: unexpected '{' in field name"
     ]
    }
   ],
   "source": [
    "text2 = \"- Pet friendly required: {'Yes' if {pet_friendly_required} else 'No'}\"\n",
    "print(text2.format(pet_friendly_required=\"A\"))"
   ]
  },
  {
   "cell_type": "code",
   "execution_count": null,
   "id": "9162039b",
   "metadata": {},
   "outputs": [],
   "source": []
  }
 ],
 "metadata": {
  "kernelspec": {
   "display_name": "Python (myenv)",
   "language": "python",
   "name": "venv"
  },
  "language_info": {
   "codemirror_mode": {
    "name": "ipython",
    "version": 3
   },
   "file_extension": ".py",
   "mimetype": "text/x-python",
   "name": "python",
   "nbconvert_exporter": "python",
   "pygments_lexer": "ipython3",
   "version": "3.9.12"
  }
 },
 "nbformat": 4,
 "nbformat_minor": 5
}
