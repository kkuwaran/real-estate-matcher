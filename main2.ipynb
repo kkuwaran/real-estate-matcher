{
 "cells": [
  {
   "cell_type": "code",
   "execution_count": 1,
   "id": "74f89568",
   "metadata": {},
   "outputs": [],
   "source": [
    "from pathlib import Path\n",
    "from real_estate_database import Database\n",
    "from real_estate_conversations import RealEstateConversations"
   ]
  },
  {
   "cell_type": "code",
   "execution_count": 2,
   "id": "69c9e94d",
   "metadata": {},
   "outputs": [
    {
     "name": "stdout",
     "output_type": "stream",
     "text": [
      "Available collections: ['real_estate_listings_v2', 'real_estate_listings', 'real_estate_listings_v3']\n",
      "*** Retrieving existing collection: 'real_estate_listings_v3' ***\n",
      "Number of documents in collection: 30\n",
      "Loaded 30 records\n",
      "Embedding function set up with model: text-embedding-3-small\n",
      "Number of documents in collection: 30\n"
     ]
    }
   ],
   "source": [
    "collection_name = \"real_estate_listings_v3\"\n",
    "persist_directory = Path.cwd() / \"chromadb_data\"\n",
    "\n",
    "# Path to the JSON file\n",
    "json_path = Path.cwd() / \"real-estate-listings.json\"\n",
    "embed_model = \"text-embedding-3-small\"\n",
    "\n",
    "\n",
    "\n",
    "delete_flag = False\n",
    "verbose = True\n",
    "\n",
    "database = Database(persist_directory, collection_name, delete_flag=delete_flag, verbose=verbose)\n",
    "database.add_data(json_path, embed_model=embed_model)"
   ]
  },
  {
   "cell_type": "code",
   "execution_count": 3,
   "id": "8c85394c",
   "metadata": {},
   "outputs": [
    {
     "name": "stdout",
     "output_type": "stream",
     "text": [
      "Conversation IDs: [1, 2, 3, 99, 100] \n",
      "\n",
      "========== Conversation 2 ==========\n",
      "Agent: Hello! What kind of property are you looking for today?\n",
      "Buyer: I'm looking for a spacious suburban home for my family.\n",
      "Agent: Great! How many bedrooms and bathrooms do you need?\n",
      "Buyer: At least 4 bedrooms and 3 bathrooms.\n",
      "Agent: Are there any specific amenities you want in the house?\n",
      "Buyer: A large backyard, a garage for two cars, and a modern kitchen would be ideal.\n",
      "Agent: What about the neighborhood? Any preferences?\n",
      "Buyer: A safe, family-friendly area with good schools nearby.\n",
      "Agent: Do you have a budget range in mind?\n",
      "Buyer: Somewhere between $500,000 and $700,000.\n",
      "\n",
      "========== Buyer Preferences ==========\n"
     ]
    },
    {
     "data": {
      "text/plain": [
       "{'bedrooms': 4,\n",
       " 'bathrooms': 3.0,\n",
       " 'property_type': 'home',\n",
       " 'area_min_sqft': None,\n",
       " 'area_max_sqft': None,\n",
       " 'building_max_age': None,\n",
       " 'building_min_year': None,\n",
       " 'amenities': ['large backyard', 'garage for two cars', 'modern kitchen'],\n",
       " 'furnished': False,\n",
       " 'location': 'suburban',\n",
       " 'neighborhood_features': ['safe', 'family-friendly', 'good schools nearby'],\n",
       " 'transportation': [],\n",
       " 'parking_required': True,\n",
       " 'pet_friendly_required': False,\n",
       " 'min_budget': 500000,\n",
       " 'max_budget': 700000}"
      ]
     },
     "metadata": {},
     "output_type": "display_data"
    },
    {
     "name": "stdout",
     "output_type": "stream",
     "text": [
      "\n",
      "========== Query Text ==========\n",
      "- Property type: home\n",
      "- Amenities: large backyard, garage for two cars, modern kitchen\n",
      "- Furnished: No\n",
      "- Location: suburban\n",
      "- Neighborhood features: safe, family-friendly, good schools nearby\n",
      "- Transportation preferences: Any\n",
      "- Parking required: Yes\n",
      "- Pet friendly required: No\n",
      "\n",
      "========== Filter Conditions ==========\n"
     ]
    },
    {
     "data": {
      "text/plain": [
       "[{'bedrooms': 4},\n",
       " {'bathrooms': {'$gte': 2.0}},\n",
       " {'bathrooms': {'$lte': 4.0}},\n",
       " {'price': {'$gte': 500000}},\n",
       " {'price': {'$lte': 700000}}]"
      ]
     },
     "metadata": {},
     "output_type": "display_data"
    },
    {
     "name": "stdout",
     "output_type": "stream",
     "text": [
      "\n",
      "[{'bedrooms': 4}, {'bathrooms': {'$gte': 2.0}}, {'bathrooms': {'$lte': 4.0}}, {'price': {'$gte': 500000}}, {'price': {'$lte': 1000000}}]\n",
      "\n",
      "========== Query Outputs ==========\n"
     ]
    },
    {
     "data": {
      "text/plain": [
       "{'ids': [['2']],\n",
       " 'embeddings': None,\n",
       " 'documents': [['Spacious 4-Bedroom House with Garden. This spacious 4-bedroom, 3-bathroom house offers a large backyard perfect for outdoor activities, a renovated kitchen with modern finishes, and a 2-car garage. The open-concept living and dining area flows seamlessly into the backyard patio, ideal for entertaining. The master suite includes a walk-in closet and en-suite bathroom with a soaking tub and separate shower. Neighborhood info: Located in a quiet suburban neighborhood in Austin, TX, this house is close to excellent schools, parks, and shopping centers. The area is family-friendly with a tight-knit community and is just a short drive to downtown Austin for easy access to work and entertainment.. Location: Austin, TX, Neighborhood: Suburban. Type: House, Bedrooms: 4, Bathrooms: 3.0, Area: 2100 sqft, Year built: 2015, Price: $715000.']],\n",
       " 'uris': None,\n",
       " 'included': ['metadatas', 'documents', 'distances'],\n",
       " 'data': None,\n",
       " 'metadatas': [[{'listed_date': '2025-03-25',\n",
       "    'location': 'Austin, TX',\n",
       "    'bathrooms': 3.0,\n",
       "    'price': 715000,\n",
       "    'title': 'Spacious 4-Bedroom House with Garden',\n",
       "    'description': 'This spacious 4-bedroom, 3-bathroom house offers a large backyard perfect for outdoor activities, a renovated kitchen with modern finishes, and a 2-car garage. The open-concept living and dining area flows seamlessly into the backyard patio, ideal for entertaining. The master suite includes a walk-in closet and en-suite bathroom with a soaking tub and separate shower.',\n",
       "    'neighborhood': 'Suburban',\n",
       "    'year_built': 2015,\n",
       "    'property_type': 'House',\n",
       "    'id': 2,\n",
       "    'area_sqft': 2100,\n",
       "    'neighborhood_description': 'Located in a quiet suburban neighborhood in Austin, TX, this house is close to excellent schools, parks, and shopping centers. The area is family-friendly with a tight-knit community and is just a short drive to downtown Austin for easy access to work and entertainment.',\n",
       "    'bedrooms': 4}]],\n",
       " 'distances': [[1.0891661643981934]]}"
      ]
     },
     "metadata": {},
     "output_type": "display_data"
    },
    {
     "name": "stdout",
     "output_type": "stream",
     "text": [
      "\n",
      "========== Rank-1 ==========\n",
      "Property ID: 2\n",
      "Title: Spacious 4-Bedroom House with Garden\n",
      "Description: This spacious 4-bedroom, 3-bathroom house offers a large backyard perfect for outdoor activities, a renovated kitchen with modern finishes, and a 2-car garage. The open-concept living and dining area flows seamlessly into the backyard patio, ideal for entertaining. The master suite includes a walk-in closet and en-suite bathroom with a soaking tub and separate shower.\n",
      "Neighborhood Info: Located in a quiet suburban neighborhood in Austin, TX, this house is close to excellent schools, parks, and shopping centers. The area is family-friendly with a tight-knit community and is just a short drive to downtown Austin for easy access to work and entertainment.\n",
      "Location: Austin, TX\n",
      "Neighborhood: Suburban\n",
      "Property Type: House\n",
      "Year Built: 2015 CE\n",
      "Price: $715,000\n",
      "Bedrooms: 4\n",
      "Bathroom: 3.0\n",
      "Area: 2100 sq.ft.\n",
      "Listed Date: 2025-03-25\n",
      "\n",
      "\n"
     ]
    }
   ],
   "source": [
    "conv_json_path = Path.cwd() / \"conversations.json\"\n",
    "\n",
    "conv_id = 2\n",
    "n_results = 1\n",
    "\n",
    "\n",
    "conv = RealEstateConversations(conv_json_path, verbose=verbose)\n",
    "obj = conv.get_query_text_and_conditions(conv_id)\n",
    "\n",
    "\n",
    "# TODO: add feature to relax constraints\n",
    "a, b = obj\n",
    "b[4]['price']['$lte'] = 1000000\n",
    "\n",
    "print(b)\n",
    "print()\n",
    "\n",
    "query_outputs = database.query(*obj, n_results=n_results)\n",
    "database.display_results(query_outputs)"
   ]
  },
  {
   "cell_type": "code",
   "execution_count": null,
   "id": "56415d9f",
   "metadata": {},
   "outputs": [],
   "source": []
  }
 ],
 "metadata": {
  "kernelspec": {
   "display_name": "Python (myenv)",
   "language": "python",
   "name": "venv"
  },
  "language_info": {
   "codemirror_mode": {
    "name": "ipython",
    "version": 3
   },
   "file_extension": ".py",
   "mimetype": "text/x-python",
   "name": "python",
   "nbconvert_exporter": "python",
   "pygments_lexer": "ipython3",
   "version": "3.9.12"
  }
 },
 "nbformat": 4,
 "nbformat_minor": 5
}
