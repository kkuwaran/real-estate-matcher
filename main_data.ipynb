{
 "cells": [
  {
   "cell_type": "code",
   "execution_count": 1,
   "id": "716cc29f",
   "metadata": {},
   "outputs": [],
   "source": [
    "import os\n",
    "import json\n",
    "from typing import List, Any, Optional\n",
    "from datetime import date\n",
    "from pathlib import Path\n",
    "from pydantic import BaseModel, Field\n",
    "from dotenv import load_dotenv\n",
    "\n",
    "from openai import OpenAI\n",
    "from src.utility import show_section\n",
    "\n",
    "\n",
    "# Load environment variables\n",
    "load_dotenv()\n",
    "\n",
    "OPENAI_API_KEY = os.getenv(\"OPENAI_API_KEY\")\n",
    "OPENAI_API_BASE = os.getenv(\"OPENAI_API_BASE\")"
   ]
  },
  {
   "cell_type": "code",
   "execution_count": 2,
   "id": "f10cee8a",
   "metadata": {},
   "outputs": [],
   "source": [
    "class Property(BaseModel):\n",
    "    id: int = Field(..., example=1)\n",
    "    title: str = Field(..., example=\"Cozy 2-Bedroom Condo in Downtown\")\n",
    "    description: str = Field(..., example=\"This modern 2-bedroom, 1.5-bathroom condo...\")\n",
    "    neighborhood_description: str = Field(..., example=\"Located in the heart of downtown...\")\n",
    "    city: str = Field(..., example=\"San Francisco\")\n",
    "    state: str = Field(..., example=\"CA\")\n",
    "    neighborhood: Optional[str] = Field(None, example=\"Downtown\")\n",
    "    property_type: str = Field(..., example=\"Condo\")\n",
    "    year_built: int = Field(..., example=2010)\n",
    "    price: float = Field(..., example=320000)\n",
    "    bedrooms: int = Field(..., example=2)\n",
    "    bathrooms: float = Field(..., example=1.5)\n",
    "    area_sqft: int = Field(..., example=850)\n",
    "    listed_date: date = Field(..., example=\"2025-04-01\")\n",
    "\n",
    "\n",
    "class SyntheticProperty:\n",
    "\n",
    "    def __init__(\n",
    "        self, \n",
    "        json_path: Path, \n",
    "        model: str = \"gpt-4o-mini\", \n",
    "        temperature: int = 0.7, \n",
    "        verbose: bool = False\n",
    "    ):\n",
    "\n",
    "        self.json_path = json_path\n",
    "\n",
    "        self.client = OpenAI(base_url=OPENAI_API_BASE, api_key=OPENAI_API_KEY)\n",
    "        self.model = model\n",
    "        self.temperature = temperature\n",
    "        self.verbose = verbose\n",
    "\n",
    "        self.data = self.load_json_list()\n",
    "\n",
    "\n",
    "    def load_json_list(self) -> List[Any]:\n",
    "        \"\"\"\n",
    "        Load a JSON file that contains a list. If the file does not exist, create an empty list.\n",
    "        Raises an error if the existing JSON is not a list.\n",
    "        \"\"\"\n",
    "\n",
    "        file_path = self.json_path\n",
    "        \n",
    "        # Create the file if it doesn't exist\n",
    "        if not file_path.exists():\n",
    "            file_path.write_text(\"[]\", encoding=\"utf-8\")\n",
    "            return []\n",
    "\n",
    "        # Load the existing JSON content\n",
    "        with file_path.open(\"r\", encoding=\"utf-8\") as f:\n",
    "            data = json.load(f)\n",
    "\n",
    "        # Ensure the content is a list\n",
    "        if not isinstance(data, list):\n",
    "            raise ValueError(f\"JSON content in {file_path} is not a list.\")\n",
    "\n",
    "        return data\n",
    "    \n",
    "\n",
    "    def write_json_list(self) -> None:\n",
    "\n",
    "        # Write back to file\n",
    "        with open(self.json_path, \"w\") as f:\n",
    "            json.dump(self.data, f, indent=4)  # indent for readability\n",
    "\n",
    "\n",
    "    def generate_property_sample(self, new_id: int) -> Property:\n",
    "\n",
    "        # Get the schema example\n",
    "        example_property = Property.model_json_schema()[\"properties\"]\n",
    "\n",
    "        # Prompt the LLM\n",
    "        prompt = f\"\"\"\n",
    "        Generate a new synthetic property listing in JSON format following this exact schema:\n",
    "        {json.dumps(example_property, indent=4)}\n",
    "\n",
    "        Make sure:\n",
    "        - All keys are present.\n",
    "        - Values are realistic but not copied.\n",
    "        - Use ID {new_id}.\n",
    "        - listed_date should be in YYYY-MM-DD format.\n",
    "        \"\"\"\n",
    "\n",
    "        response = self.client.chat.completions.parse(\n",
    "            model=self.model,\n",
    "            messages=[{\"role\": \"user\", \"content\": prompt}],\n",
    "            temperature=self.temperature,\n",
    "            response_format=Property,\n",
    "        )\n",
    "\n",
    "        # Parse the JSON output\n",
    "        output_text = response.choices[0].message.content.strip()\n",
    "\n",
    "        # Try parsing as JSON\n",
    "        try:\n",
    "            output_dict = json.loads(output_text)\n",
    "            synthetic_property = Property(**output_dict)\n",
    "        except json.JSONDecodeError:\n",
    "            print(\"Model did not return valid JSON, printing raw response:\")\n",
    "            print(output_text)\n",
    "            synthetic_property = None\n",
    "\n",
    "        return synthetic_property\n",
    "    \n",
    "\n",
    "    def add_synthetic_data(self, n_samples: int = 1, write_flag: bool = True):\n",
    "\n",
    "        ids = [item['id'] for item in self.data]\n",
    "        max_id = max(ids)\n",
    "\n",
    "        for i in range(n_samples):\n",
    "            # Generate new property info\n",
    "            new_id = max_id + i + 1\n",
    "            property_obj = self.generate_property_sample(new_id)\n",
    "            property_info = property_obj.model_dump()\n",
    "\n",
    "            if self.verbose:\n",
    "                show_section(f\"Property ID {new_id}\", property_info, use_display=True)\n",
    "\n",
    "            # Add new property\n",
    "            self.data.append(property_info)\n",
    "\n",
    "        if write_flag:\n",
    "            self.write_json_list()\n",
    "\n",
    "\n",
    "        "
   ]
  },
  {
   "cell_type": "code",
   "execution_count": 3,
   "id": "d40339e4",
   "metadata": {},
   "outputs": [
    {
     "name": "stdout",
     "output_type": "stream",
     "text": [
      "========== Property ID 32 ==========\n"
     ]
    },
    {
     "data": {
      "text/plain": [
       "{'id': 32,\n",
       " 'title': 'Spacious 3-Bedroom Family Home',\n",
       " 'description': 'This charming 3-bedroom, 2-bathroom home features an open-concept layout, a modern kitchen with stainless steel appliances, and a cozy living room with a fireplace.',\n",
       " 'neighborhood_description': 'Nestled in a quiet suburb, this home is surrounded by parks, excellent schools, and friendly neighbors, making it perfect for families.',\n",
       " 'city': 'Austin',\n",
       " 'state': 'TX',\n",
       " 'neighborhood': 'Northwest Austin',\n",
       " 'property_type': 'Single Family Home',\n",
       " 'year_built': 2015,\n",
       " 'price': 450000.0,\n",
       " 'bedrooms': 3,\n",
       " 'bathrooms': 2.0,\n",
       " 'area_sqft': 1750,\n",
       " 'listed_date': datetime.date(2025, 5, 15)}"
      ]
     },
     "metadata": {},
     "output_type": "display_data"
    },
    {
     "name": "stdout",
     "output_type": "stream",
     "text": [
      "\n",
      "========== Property ID 33 ==========\n"
     ]
    },
    {
     "data": {
      "text/plain": [
       "{'id': 33,\n",
       " 'title': 'Charming 3-Bedroom House in Riverside',\n",
       " 'description': 'This spacious 3-bedroom, 2-bathroom house features an open floor plan with plenty of natural light, a modern kitchen with stainless steel appliances, and a cozy backyard perfect for gatherings.',\n",
       " 'neighborhood_description': 'Nestled in the quiet Riverside area, this home is close to parks, schools, and shopping, making it ideal for families.',\n",
       " 'city': 'Riverside',\n",
       " 'state': 'CA',\n",
       " 'neighborhood': 'Riverside',\n",
       " 'property_type': 'House',\n",
       " 'year_built': 2015,\n",
       " 'price': 450000.0,\n",
       " 'bedrooms': 3,\n",
       " 'bathrooms': 2.0,\n",
       " 'area_sqft': 1500,\n",
       " 'listed_date': datetime.date(2025, 5, 15)}"
      ]
     },
     "metadata": {},
     "output_type": "display_data"
    },
    {
     "name": "stdout",
     "output_type": "stream",
     "text": [
      "\n",
      "========== Property ID 34 ==========\n"
     ]
    },
    {
     "data": {
      "text/plain": [
       "{'id': 34,\n",
       " 'title': 'Charming 3-Bedroom Bungalow in Suburbia',\n",
       " 'description': 'This delightful 3-bedroom, 2-bathroom bungalow features a spacious living area, a modern kitchen with stainless steel appliances, and a beautifully landscaped garden.',\n",
       " 'neighborhood_description': 'Nestled in a quiet suburban area, this home is just a short drive from local shops, parks, and top-rated schools, making it a perfect family location.',\n",
       " 'city': 'Austin',\n",
       " 'state': 'TX',\n",
       " 'neighborhood': 'Suburbia',\n",
       " 'property_type': 'Bungalow',\n",
       " 'year_built': 2015,\n",
       " 'price': 425000.0,\n",
       " 'bedrooms': 3,\n",
       " 'bathrooms': 2.0,\n",
       " 'area_sqft': 1500,\n",
       " 'listed_date': datetime.date(2025, 5, 15)}"
      ]
     },
     "metadata": {},
     "output_type": "display_data"
    },
    {
     "name": "stdout",
     "output_type": "stream",
     "text": [
      "\n"
     ]
    },
    {
     "ename": "TypeError",
     "evalue": "Object of type date is not JSON serializable",
     "output_type": "error",
     "traceback": [
      "\u001b[0;31m---------------------------------------------------------------------------\u001b[0m",
      "\u001b[0;31mTypeError\u001b[0m                                 Traceback (most recent call last)",
      "Cell \u001b[0;32mIn[3], line 13\u001b[0m\n\u001b[1;32m      9\u001b[0m verbose \u001b[38;5;241m=\u001b[39m \u001b[38;5;28;01mTrue\u001b[39;00m\n\u001b[1;32m     12\u001b[0m synthetic_prop \u001b[38;5;241m=\u001b[39m SyntheticProperty(catalog_json_path, model\u001b[38;5;241m=\u001b[39mmodel_name, verbose\u001b[38;5;241m=\u001b[39mverbose)\n\u001b[0;32m---> 13\u001b[0m \u001b[43msynthetic_prop\u001b[49m\u001b[38;5;241;43m.\u001b[39;49m\u001b[43madd_synthetic_data\u001b[49m\u001b[43m(\u001b[49m\u001b[43mn_samples\u001b[49m\u001b[38;5;241;43m=\u001b[39;49m\u001b[43mn_samples\u001b[49m\u001b[43m,\u001b[49m\u001b[43m \u001b[49m\u001b[43mwrite_flag\u001b[49m\u001b[38;5;241;43m=\u001b[39;49m\u001b[43mwrite_flag\u001b[49m\u001b[43m)\u001b[49m\n",
      "Cell \u001b[0;32mIn[2], line 126\u001b[0m, in \u001b[0;36mSyntheticProperty.add_synthetic_data\u001b[0;34m(self, n_samples, write_flag)\u001b[0m\n\u001b[1;32m    123\u001b[0m     \u001b[38;5;28mself\u001b[39m\u001b[38;5;241m.\u001b[39mdata\u001b[38;5;241m.\u001b[39mappend(property_info)\n\u001b[1;32m    125\u001b[0m \u001b[38;5;28;01mif\u001b[39;00m write_flag:\n\u001b[0;32m--> 126\u001b[0m     \u001b[38;5;28;43mself\u001b[39;49m\u001b[38;5;241;43m.\u001b[39;49m\u001b[43mwrite_json_list\u001b[49m\u001b[43m(\u001b[49m\u001b[43m)\u001b[49m\n",
      "Cell \u001b[0;32mIn[2], line 66\u001b[0m, in \u001b[0;36mSyntheticProperty.write_json_list\u001b[0;34m(self)\u001b[0m\n\u001b[1;32m     62\u001b[0m \u001b[38;5;28;01mdef\u001b[39;00m\u001b[38;5;250m \u001b[39m\u001b[38;5;21mwrite_json_list\u001b[39m(\u001b[38;5;28mself\u001b[39m) \u001b[38;5;241m-\u001b[39m\u001b[38;5;241m>\u001b[39m \u001b[38;5;28;01mNone\u001b[39;00m:\n\u001b[1;32m     63\u001b[0m \n\u001b[1;32m     64\u001b[0m     \u001b[38;5;66;03m# Write back to file\u001b[39;00m\n\u001b[1;32m     65\u001b[0m     \u001b[38;5;28;01mwith\u001b[39;00m \u001b[38;5;28mopen\u001b[39m(\u001b[38;5;28mself\u001b[39m\u001b[38;5;241m.\u001b[39mjson_path, \u001b[38;5;124m\"\u001b[39m\u001b[38;5;124mw\u001b[39m\u001b[38;5;124m\"\u001b[39m) \u001b[38;5;28;01mas\u001b[39;00m f:\n\u001b[0;32m---> 66\u001b[0m         \u001b[43mjson\u001b[49m\u001b[38;5;241;43m.\u001b[39;49m\u001b[43mdump\u001b[49m\u001b[43m(\u001b[49m\u001b[38;5;28;43mself\u001b[39;49m\u001b[38;5;241;43m.\u001b[39;49m\u001b[43mdata\u001b[49m\u001b[43m,\u001b[49m\u001b[43m \u001b[49m\u001b[43mf\u001b[49m\u001b[43m,\u001b[49m\u001b[43m \u001b[49m\u001b[43mindent\u001b[49m\u001b[38;5;241;43m=\u001b[39;49m\u001b[38;5;241;43m4\u001b[39;49m\u001b[43m)\u001b[49m\n",
      "File \u001b[0;32m~/opt/anaconda3/lib/python3.9/json/__init__.py:179\u001b[0m, in \u001b[0;36mdump\u001b[0;34m(obj, fp, skipkeys, ensure_ascii, check_circular, allow_nan, cls, indent, separators, default, sort_keys, **kw)\u001b[0m\n\u001b[1;32m    173\u001b[0m     iterable \u001b[38;5;241m=\u001b[39m \u001b[38;5;28mcls\u001b[39m(skipkeys\u001b[38;5;241m=\u001b[39mskipkeys, ensure_ascii\u001b[38;5;241m=\u001b[39mensure_ascii,\n\u001b[1;32m    174\u001b[0m         check_circular\u001b[38;5;241m=\u001b[39mcheck_circular, allow_nan\u001b[38;5;241m=\u001b[39mallow_nan, indent\u001b[38;5;241m=\u001b[39mindent,\n\u001b[1;32m    175\u001b[0m         separators\u001b[38;5;241m=\u001b[39mseparators,\n\u001b[1;32m    176\u001b[0m         default\u001b[38;5;241m=\u001b[39mdefault, sort_keys\u001b[38;5;241m=\u001b[39msort_keys, \u001b[38;5;241m*\u001b[39m\u001b[38;5;241m*\u001b[39mkw)\u001b[38;5;241m.\u001b[39miterencode(obj)\n\u001b[1;32m    177\u001b[0m \u001b[38;5;66;03m# could accelerate with writelines in some versions of Python, at\u001b[39;00m\n\u001b[1;32m    178\u001b[0m \u001b[38;5;66;03m# a debuggability cost\u001b[39;00m\n\u001b[0;32m--> 179\u001b[0m \u001b[38;5;28;01mfor\u001b[39;00m chunk \u001b[38;5;129;01min\u001b[39;00m iterable:\n\u001b[1;32m    180\u001b[0m     fp\u001b[38;5;241m.\u001b[39mwrite(chunk)\n",
      "File \u001b[0;32m~/opt/anaconda3/lib/python3.9/json/encoder.py:429\u001b[0m, in \u001b[0;36m_make_iterencode.<locals>._iterencode\u001b[0;34m(o, _current_indent_level)\u001b[0m\n\u001b[1;32m    427\u001b[0m     \u001b[38;5;28;01myield\u001b[39;00m _floatstr(o)\n\u001b[1;32m    428\u001b[0m \u001b[38;5;28;01melif\u001b[39;00m \u001b[38;5;28misinstance\u001b[39m(o, (\u001b[38;5;28mlist\u001b[39m, \u001b[38;5;28mtuple\u001b[39m)):\n\u001b[0;32m--> 429\u001b[0m     \u001b[38;5;28;01myield from\u001b[39;00m _iterencode_list(o, _current_indent_level)\n\u001b[1;32m    430\u001b[0m \u001b[38;5;28;01melif\u001b[39;00m \u001b[38;5;28misinstance\u001b[39m(o, \u001b[38;5;28mdict\u001b[39m):\n\u001b[1;32m    431\u001b[0m     \u001b[38;5;28;01myield from\u001b[39;00m _iterencode_dict(o, _current_indent_level)\n",
      "File \u001b[0;32m~/opt/anaconda3/lib/python3.9/json/encoder.py:325\u001b[0m, in \u001b[0;36m_make_iterencode.<locals>._iterencode_list\u001b[0;34m(lst, _current_indent_level)\u001b[0m\n\u001b[1;32m    323\u001b[0m         \u001b[38;5;28;01melse\u001b[39;00m:\n\u001b[1;32m    324\u001b[0m             chunks \u001b[38;5;241m=\u001b[39m _iterencode(value, _current_indent_level)\n\u001b[0;32m--> 325\u001b[0m         \u001b[38;5;28;01myield from\u001b[39;00m chunks\n\u001b[1;32m    326\u001b[0m \u001b[38;5;28;01mif\u001b[39;00m newline_indent \u001b[38;5;129;01mis\u001b[39;00m \u001b[38;5;129;01mnot\u001b[39;00m \u001b[38;5;28;01mNone\u001b[39;00m:\n\u001b[1;32m    327\u001b[0m     _current_indent_level \u001b[38;5;241m-\u001b[39m\u001b[38;5;241m=\u001b[39m \u001b[38;5;241m1\u001b[39m\n",
      "File \u001b[0;32m~/opt/anaconda3/lib/python3.9/json/encoder.py:405\u001b[0m, in \u001b[0;36m_make_iterencode.<locals>._iterencode_dict\u001b[0;34m(dct, _current_indent_level)\u001b[0m\n\u001b[1;32m    403\u001b[0m         \u001b[38;5;28;01melse\u001b[39;00m:\n\u001b[1;32m    404\u001b[0m             chunks \u001b[38;5;241m=\u001b[39m _iterencode(value, _current_indent_level)\n\u001b[0;32m--> 405\u001b[0m         \u001b[38;5;28;01myield from\u001b[39;00m chunks\n\u001b[1;32m    406\u001b[0m \u001b[38;5;28;01mif\u001b[39;00m newline_indent \u001b[38;5;129;01mis\u001b[39;00m \u001b[38;5;129;01mnot\u001b[39;00m \u001b[38;5;28;01mNone\u001b[39;00m:\n\u001b[1;32m    407\u001b[0m     _current_indent_level \u001b[38;5;241m-\u001b[39m\u001b[38;5;241m=\u001b[39m \u001b[38;5;241m1\u001b[39m\n",
      "File \u001b[0;32m~/opt/anaconda3/lib/python3.9/json/encoder.py:438\u001b[0m, in \u001b[0;36m_make_iterencode.<locals>._iterencode\u001b[0;34m(o, _current_indent_level)\u001b[0m\n\u001b[1;32m    436\u001b[0m         \u001b[38;5;28;01mraise\u001b[39;00m \u001b[38;5;167;01mValueError\u001b[39;00m(\u001b[38;5;124m\"\u001b[39m\u001b[38;5;124mCircular reference detected\u001b[39m\u001b[38;5;124m\"\u001b[39m)\n\u001b[1;32m    437\u001b[0m     markers[markerid] \u001b[38;5;241m=\u001b[39m o\n\u001b[0;32m--> 438\u001b[0m o \u001b[38;5;241m=\u001b[39m \u001b[43m_default\u001b[49m\u001b[43m(\u001b[49m\u001b[43mo\u001b[49m\u001b[43m)\u001b[49m\n\u001b[1;32m    439\u001b[0m \u001b[38;5;28;01myield from\u001b[39;00m _iterencode(o, _current_indent_level)\n\u001b[1;32m    440\u001b[0m \u001b[38;5;28;01mif\u001b[39;00m markers \u001b[38;5;129;01mis\u001b[39;00m \u001b[38;5;129;01mnot\u001b[39;00m \u001b[38;5;28;01mNone\u001b[39;00m:\n",
      "File \u001b[0;32m~/opt/anaconda3/lib/python3.9/json/encoder.py:179\u001b[0m, in \u001b[0;36mJSONEncoder.default\u001b[0;34m(self, o)\u001b[0m\n\u001b[1;32m    160\u001b[0m \u001b[38;5;28;01mdef\u001b[39;00m\u001b[38;5;250m \u001b[39m\u001b[38;5;21mdefault\u001b[39m(\u001b[38;5;28mself\u001b[39m, o):\n\u001b[1;32m    161\u001b[0m \u001b[38;5;250m    \u001b[39m\u001b[38;5;124;03m\"\"\"Implement this method in a subclass such that it returns\u001b[39;00m\n\u001b[1;32m    162\u001b[0m \u001b[38;5;124;03m    a serializable object for ``o``, or calls the base implementation\u001b[39;00m\n\u001b[1;32m    163\u001b[0m \u001b[38;5;124;03m    (to raise a ``TypeError``).\u001b[39;00m\n\u001b[0;32m   (...)\u001b[0m\n\u001b[1;32m    177\u001b[0m \n\u001b[1;32m    178\u001b[0m \u001b[38;5;124;03m    \"\"\"\u001b[39;00m\n\u001b[0;32m--> 179\u001b[0m     \u001b[38;5;28;01mraise\u001b[39;00m \u001b[38;5;167;01mTypeError\u001b[39;00m(\u001b[38;5;124mf\u001b[39m\u001b[38;5;124m'\u001b[39m\u001b[38;5;124mObject of type \u001b[39m\u001b[38;5;132;01m{\u001b[39;00mo\u001b[38;5;241m.\u001b[39m\u001b[38;5;18m__class__\u001b[39m\u001b[38;5;241m.\u001b[39m\u001b[38;5;18m__name__\u001b[39m\u001b[38;5;132;01m}\u001b[39;00m\u001b[38;5;124m \u001b[39m\u001b[38;5;124m'\u001b[39m\n\u001b[1;32m    180\u001b[0m                     \u001b[38;5;124mf\u001b[39m\u001b[38;5;124m'\u001b[39m\u001b[38;5;124mis not JSON serializable\u001b[39m\u001b[38;5;124m'\u001b[39m)\n",
      "\u001b[0;31mTypeError\u001b[0m: Object of type date is not JSON serializable"
     ]
    }
   ],
   "source": [
    "# Path to JSON file\n",
    "project_directory = Path.cwd()\n",
    "catalog_json_path = project_directory / \"data\" / \"real-estate-listings copy.json\"\n",
    "\n",
    "n_samples = 3\n",
    "model_name = \"gpt-4o-mini\"  # \"gpt-4.1\"\n",
    "write_flag = True\n",
    "\n",
    "verbose = True\n",
    "\n",
    "\n",
    "synthetic_prop = SyntheticProperty(catalog_json_path, model=model_name, verbose=verbose)\n",
    "synthetic_prop.add_synthetic_data(n_samples=n_samples, write_flag=write_flag)\n"
   ]
  },
  {
   "cell_type": "code",
   "execution_count": null,
   "id": "dd85b9f1",
   "metadata": {},
   "outputs": [],
   "source": []
  }
 ],
 "metadata": {
  "kernelspec": {
   "display_name": "venv (3.9.12)",
   "language": "python",
   "name": "python3"
  },
  "language_info": {
   "codemirror_mode": {
    "name": "ipython",
    "version": 3
   },
   "file_extension": ".py",
   "mimetype": "text/x-python",
   "name": "python",
   "nbconvert_exporter": "python",
   "pygments_lexer": "ipython3",
   "version": "3.9.12"
  }
 },
 "nbformat": 4,
 "nbformat_minor": 5
}
